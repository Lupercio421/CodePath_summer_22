{
 "cells": [
  {
   "cell_type": "markdown",
   "metadata": {},
   "source": []
  },
  {
   "cell_type": "code",
   "execution_count": 10,
   "metadata": {},
   "outputs": [
    {
     "name": "stdout",
     "output_type": "stream",
     "text": [
      "A 4\n",
      "A 4\n",
      "B 3\n",
      "C 2\n",
      "A 4\n",
      "B 3\n",
      "C 2\n",
      "D 1\n",
      "a 0\n",
      "B 3\n",
      "2.6\n"
     ]
    }
   ],
   "source": [
    "grades = {\"A\": 4, \"B\": 3, \"C\": 2, \"D\": 1, \"F\": 0}\n",
    "gradebook = [\"A\", \"A\", \"B\", \"C\", \"A\", \"B\", \"C\", \"D\", \"a\", \"B\"]\n",
    "mystery = 0\n",
    "\n",
    "for x in gradebook:\n",
    "    print(x, grades.get(x, 0))\n",
    "    mystery += grades.get(x, 0)\n",
    "print(mystery/len(gradebook))\n"
   ]
  },
  {
   "cell_type": "markdown",
   "metadata": {},
   "source": [
    "# Problem #1\n",
    "What is the output of the following code?"
   ]
  },
  {
   "cell_type": "code",
   "execution_count": 11,
   "metadata": {},
   "outputs": [
    {
     "name": "stdout",
     "output_type": "stream",
     "text": [
      "1\n",
      "2\n",
      "3\n",
      "0\n"
     ]
    }
   ],
   "source": [
    "d = {\"a\": 1, \"b\": 2, \"c\": 3}\n",
    "print(d.get(\"a\", 0))\n",
    "print(d.get(\"b\", 0))\n",
    "print(d.get(\"c\", 0))\n",
    "print(d.get(\"d\", 0))"
   ]
  },
  {
   "cell_type": "markdown",
   "metadata": {},
   "source": [
    "# Problem #2\n",
    "What is the output of the following code?"
   ]
  },
  {
   "cell_type": "code",
   "execution_count": null,
   "metadata": {},
   "outputs": [],
   "source": [
    "d = {\"a\": 1, \"b\": 2, \"c\": 3}\n",
    "print(d[\"a\"])\n",
    "print(d[\"b\"])\n",
    "print(d[\"c\"])\n",
    "print(d[\"d\"]) #Error, the key 'd' is not found"
   ]
  },
  {
   "cell_type": "markdown",
   "metadata": {},
   "source": [
    "# Problem #3\n",
    "What is the output of the following code?"
   ]
  },
  {
   "cell_type": "code",
   "execution_count": null,
   "metadata": {},
   "outputs": [],
   "source": [
    "d = {1: \"a\", 2: \"b\", 3: \"c\"}\n",
    "for x, y in d.items():  \n",
    "    #print(d[x],y)\n",
    "    print(x,y, d[x], d[x+1]) #when x = 3, y = \"c\", this will return an error, the key '4' does not exist"
   ]
  },
  {
   "cell_type": "markdown",
   "metadata": {},
   "source": [
    "# Problem #4\n",
    "For each of the following problems, determine if they should be solved with a list or a dictionary. If it's a dictionary, what should the keys and values be? Create an example list or dictionary with around 3 items for each."
   ]
  },
  {
   "cell_type": "markdown",
   "metadata": {},
   "source": [
    "- A reference where you can look up the genus of an animal based on the animal name.\n",
    "\\\n",
    "Dictionary, {\"\"}"
   ]
  },
  {
   "cell_type": "markdown",
   "metadata": {},
   "source": [
    "- A zoo's log of how many of each animal they have. It's easy to get the count of an animal based on the animal name.\n",
    "Dictionary: {\"zebra\":4, \"lions\":3, \"monkey\":4}"
   ]
  },
  {
   "cell_type": "markdown",
   "metadata": {},
   "source": [
    "- A zoo's complete log of what animals they have. It keeps track of the animals in the order they arrived to the zoo. \\\n",
    "List: [\"zebra\",  \"lions\", \"monkey\"]\n"
   ]
  },
  {
   "cell_type": "markdown",
   "metadata": {},
   "source": [
    "- Patrons of a zoo. This is intentionally vague. Think of different scenarios that would warrant a list or a dictionary. \\\n",
    "Dictionary: {\"men\":50, \"women\":22, \"children\":33}"
   ]
  },
  {
   "cell_type": "markdown",
   "metadata": {},
   "source": [
    "# Problem #5\n",
    "Write the function `letter_count()`, which takes a word list and returns a dictionary which has the letters as keys and the values the number of times each letter appears in the word list."
   ]
  },
  {
   "cell_type": "code",
   "execution_count": 19,
   "metadata": {},
   "outputs": [
    {
     "name": "stdout",
     "output_type": "stream",
     "text": [
      "Input:  ['car', 'bat', 'rat']\n",
      "Output:  {'c': 1, 'a': 3, 'r': 2, 'b': 1, 't': 2}\n",
      "\n",
      "Input:  []\n",
      "Output:  {}\n"
     ]
    }
   ],
   "source": [
    "def letter_count(word_list):\n",
    "    letter_d = {}\n",
    "    for word in word_list:\n",
    "        for letter in word:\n",
    "            #print(letter_d.get(letter,0) + 1)\n",
    "            letter_d[letter] = letter_d.get(letter,0) + 1\n",
    "    return letter_d\n",
    "\n",
    "# Test Cases\n",
    "word_list = ['car', 'bat', 'rat']\n",
    "print(\"Input: \", word_list)\n",
    "print(\"Output: \", letter_count(word_list)) # {'c': 1, 'a': 3, 'r': 2, 'b': 1, 't': 2}\n",
    "\n",
    "word_list = []\n",
    "print(\"\\nInput: \", word_list)\n",
    "print(\"Output: \", letter_count(word_list)) # {}    "
   ]
  },
  {
   "cell_type": "markdown",
   "metadata": {},
   "source": [
    "# Problem #6\n",
    "Write the function `most_common_letters()` which takes a dictionary with letters as keys and values as the count of that letter and returns the a list of the letters with the highest count. The list can have any number of letters in it depending on how many letters are tied for the highest count."
   ]
  },
  {
   "cell_type": "code",
   "execution_count": 29,
   "metadata": {},
   "outputs": [
    {
     "name": "stdout",
     "output_type": "stream",
     "text": [
      "Input:  {'c': 1, 'a': 3, 'r': 2, 't': 2, 'b': 1}\n",
      "Output:  ['a']\n",
      "\n",
      "Input:  {'c': 1, 'a': 3, 'r': 3, 't': 3, 'b': 1}\n",
      "Output:  ['a', 'r', 't']\n",
      "\n",
      "Input:  {'c': 0, 'a': 0, 'r': 0, 't': 0, 'b': 0}\n",
      "Output:  ['c', 'a', 'r', 't', 'b']\n"
     ]
    }
   ],
   "source": [
    "from unittest import result\n",
    "\n",
    "\n",
    "def most_common_letters(letter_counts):\n",
    "    max_count = None\n",
    "    for count in letter_counts.values():\n",
    "        if max_count is None or count > max_count:\n",
    "            max_count = count #max_count is updated to the current highest count\n",
    "    result = []\n",
    "    for letter, count in letter_counts.items():\n",
    "        if count == max_count: #compare the counts to the max_count created above\n",
    "            result.append(letter)\n",
    "    return result\n",
    "        #print(count)\n",
    "    #print(x,y in letter_counts.values())\n",
    "  #pass\n",
    "\n",
    "#Test Cases\n",
    "letter_counts = {'c': 1, 'a': 3, 'r': 2, 't': 2, 'b': 1}\n",
    "print(\"Input: \", letter_counts)\n",
    "print(\"Output: \", most_common_letters(letter_counts)) # ['a']\n",
    "\n",
    "letter_counts = {'c': 1, 'a': 3, 'r': 3, 't': 3, 'b': 1}\n",
    "print(\"\\nInput: \", letter_counts)\n",
    "print(\"Output: \", most_common_letters(letter_counts)) # ['a', 'r', 't']\n",
    "\n",
    "letter_counts = {'c': 0, 'a': 0, 'r': 0, 't': 0, 'b': 0}\n",
    "print(\"\\nInput: \", letter_counts)\n",
    "print(\"Output: \", most_common_letters(letter_counts)) # ['a', 'r', 't']"
   ]
  },
  {
   "cell_type": "markdown",
   "metadata": {},
   "source": [
    "# Problem #7\n",
    "Write the function count_by_state() which gives the count of people in a given state. It takes the following as input:\n",
    "\n",
    "- `locations`: a dictionary with names as keys and their city as the value\n",
    "- `states`: a dictionary with cities as the keys and the state of the city as the value"
   ]
  },
  {
   "cell_type": "markdown",
   "metadata": {},
   "source": [
    "Input: \\\n",
    "  locations = {\"Bob\": \"San Francisco\", \"Anna\": \"Los Angeles\", \"Charlie\": \"Detroit\"} \\\n",
    "  states = {\"San Francisco\": \"California\", \"Los Angeles\": \"California\", \"Ann Arbor\": \"Michigan\", \"Detroit\": \"Michigan\"} \\\n",
    "  state = \"California\"\n",
    "\n",
    "Output: 2\n",
    "\n",
    "Input: \\\n",
    "  locations = {\"Bob\": \"San Francisco\", \"Anna\": \"Los Angeles\", \"Charlie\": \"Detroit\"} \\\n",
    "  states = {\"San Francisco\": \"California\", \"Los Angeles\": \"California\", \"Ann Arbor\": \"Michigan\", \"Detroit\": \"Michigan\"} \\\n",
    "  state = \"Michagan\"\n",
    "\n",
    "Output: 1\n",
    "\n",
    "Input: \\\n",
    "  locations = {\"Bob\": \"San Francisco\", \"Anna\": \"Los Angeles\", \"Charlie\": \"Detroit\"} \\\n",
    "  states = {\"San Francisco\": \"California\", \"Los Angeles\": \"California\", \"Ann Arbor\": \"Michigan\", \"Detroit\": \"Michigan\"} \\\n",
    "  state = \"Texas\"\n",
    "\n",
    "Output: 0"
   ]
  },
  {
   "cell_type": "code",
   "execution_count": 32,
   "metadata": {},
   "outputs": [
    {
     "name": "stdout",
     "output_type": "stream",
     "text": [
      "Input\n",
      "\tlocations =  {'Bob': 'San Francisco', 'Anna': 'Los Angeles', 'Charlie': 'Detroit'}\n",
      "\tstates =  {'San Francisco': 'California', 'Los Angeles': 'California', 'Ann Arbor': 'Michigan', 'Detroit': 'Michigan'}\n",
      "\tstate =  California\n",
      "Output:  2\n",
      "\n",
      "Input\n",
      "\tlocations =  {'Bob': 'San Francisco', 'Anna': 'Los Angeles', 'Charlie': 'Detroit'}\n",
      "\tstates =  {'San Francisco': 'California', 'Los Angeles': 'California', 'Ann Arbor': 'Michigan', 'Detroit': 'Michigan'}\n",
      "\tstate =  Michigan\n",
      "Output:  1\n",
      "\n",
      "Input\n",
      "\tlocations =  {'Bob': 'San Francisco', 'Anna': 'Los Angeles', 'Charlie': 'Detroit'}\n",
      "\tstates =  {'San Francisco': 'California', 'Los Angeles': 'California', 'Ann Arbor': 'Michigan', 'Detroit': 'Michigan'}\n",
      "\tstate =  Texas\n",
      "Output:  0\n"
     ]
    }
   ],
   "source": [
    "\n",
    "def count_by_state(locations, states, state):\n",
    "  total = 0 #initiate a total count at 0\n",
    "  for name,city in locations.items(): #seperate the name of the person and city they live in\n",
    "    #print(name, city)\n",
    "    if states[city] == state: #if the state of city is equal to the input 'state'\n",
    "      #print(state)\n",
    "      total += 1 #increment the count/total by 1\n",
    "  return total\n",
    "\n",
    "\n",
    "  #pass\n",
    "\n",
    "# Test Cases\n",
    "locations = {\"Bob\": \"San Francisco\", \"Anna\": \"Los Angeles\", \"Charlie\": \"Detroit\"}\n",
    "states = {\"San Francisco\": \"California\", \"Los Angeles\": \"California\", \"Ann Arbor\": \"Michigan\", \"Detroit\": \"Michigan\"}\n",
    "\n",
    "state = \"California\"\n",
    "print(\"Input\")\n",
    "print(\"\\tlocations = \", locations)\n",
    "print(\"\\tstates = \", states)\n",
    "print(\"\\tstate = \", state)\n",
    "print(\"Output: \", count_by_state(locations, states, state)) #2\n",
    "\n",
    "state = \"Michigan\"\n",
    "print(\"\\nInput\")\n",
    "print(\"\\tlocations = \", locations)\n",
    "print(\"\\tstates = \", states)\n",
    "print(\"\\tstate = \", state)\n",
    "print(\"Output: \", count_by_state(locations, states, state)) #1\n",
    "\n",
    "state = \"Texas\"\n",
    "print(\"\\nInput\")\n",
    "print(\"\\tlocations = \", locations)\n",
    "print(\"\\tstates = \", states)\n",
    "print(\"\\tstate = \", state)\n",
    "print(\"Output: \", count_by_state(locations, states, state)) #0"
   ]
  }
 ],
 "metadata": {
  "kernelspec": {
   "display_name": "Python 3.9.7 ('sfds')",
   "language": "python",
   "name": "python3"
  },
  "language_info": {
   "codemirror_mode": {
    "name": "ipython",
    "version": 3
   },
   "file_extension": ".py",
   "mimetype": "text/x-python",
   "name": "python",
   "nbconvert_exporter": "python",
   "pygments_lexer": "ipython3",
   "version": "3.9.7"
  },
  "orig_nbformat": 4,
  "vscode": {
   "interpreter": {
    "hash": "a8387c85817131f62b92073afbf9c4320cbcdb4fc33a940d74c72b0cf27cea34"
   }
  }
 },
 "nbformat": 4,
 "nbformat_minor": 2
}
