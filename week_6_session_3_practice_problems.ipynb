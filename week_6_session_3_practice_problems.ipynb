{
 "cells": [
  {
   "cell_type": "markdown",
   "metadata": {},
   "source": [
    "# Problem #1\n",
    "What is the return value of the function call mystery([[1,2,3], [1,2,3]])?"
   ]
  },
  {
   "cell_type": "code",
   "execution_count": 4,
   "metadata": {},
   "outputs": [
    {
     "name": "stdout",
     "output_type": "stream",
     "text": [
      "y:  1\n",
      "c:  1\n",
      "y:  3\n",
      "c:  2\n",
      "y:  6\n",
      "c:  3\n",
      "y:  7\n",
      "c:  4\n",
      "y:  9\n",
      "c:  5\n",
      "y:  12\n",
      "c:  6\n"
     ]
    }
   ],
   "source": [
    "def mystery(x):\n",
    "  y = 0\n",
    "  c = 0\n",
    "  for i in x:\n",
    "    #print(i)\n",
    "    for j in i:\n",
    "        #print(j)\n",
    "        y += j\n",
    "        print(\"y: \", y)\n",
    "        c += 1\n",
    "        print(\"c: \", c)\n",
    "\n",
    "mystery([[1,2,3], [1,2,3]])"
   ]
  },
  {
   "cell_type": "markdown",
   "metadata": {},
   "source": [
    "# Problem #2\n",
    "What is the return value of the function call mystery([[1,3], [5,5], [23]])?"
   ]
  },
  {
   "cell_type": "code",
   "execution_count": 5,
   "metadata": {},
   "outputs": [
    {
     "data": {
      "text/plain": [
       "23"
      ]
     },
     "execution_count": 5,
     "metadata": {},
     "output_type": "execute_result"
    }
   ],
   "source": [
    "def mystery(x):\n",
    "  y = x[0][0] # y is assigned to 1\n",
    "  \n",
    "  for i in x: #for each sublist\n",
    "    for j in i: #for each element in each sublist\n",
    "      if j > y: #compare the element to the initial y\n",
    "        y = j #if greater, reassign y to element being used. If its not greater, move onto the next one\n",
    "  return y #should return 23\n",
    "\n",
    "mystery([[1,3], [5,5], [23]])"
   ]
  },
  {
   "cell_type": "markdown",
   "metadata": {},
   "source": [
    "# Problem #3\n",
    "What is the return value for the function call mystery([[1,3], [5,51,33,13], [22]])?"
   ]
  },
  {
   "cell_type": "code",
   "execution_count": 6,
   "metadata": {},
   "outputs": [
    {
     "data": {
      "text/plain": [
       "1"
      ]
     },
     "execution_count": 6,
     "metadata": {},
     "output_type": "execute_result"
    }
   ],
   "source": [
    "def mystery(x):\n",
    "  y = len(x[0]) #y is assigned to 2, which is the len([1,3])\n",
    "  for i in x: #for each sublist in x\n",
    "    if len(i) < y: #if the length of the current sublist is less than 2\n",
    "        y = len(i) #re-assign y to the length of the sublist\n",
    "  return y #should return 1\n",
    "\n",
    "mystery([[1,3], [5,51,33,13], [22]])"
   ]
  },
  {
   "cell_type": "markdown",
   "metadata": {},
   "source": [
    "# Problem #4\n",
    "What will the following function call print: mystery([[1,2,3], [4,5,6]])?"
   ]
  },
  {
   "cell_type": "code",
   "execution_count": 10,
   "metadata": {},
   "outputs": [
    {
     "name": "stdout",
     "output_type": "stream",
     "text": [
      "row:  1\n",
      "col:  1\n",
      "6\n",
      "col:  2\n",
      "5\n",
      "col:  3\n",
      "4\n",
      "row:  2\n",
      "col:  1\n",
      "3\n",
      "col:  2\n",
      "2\n",
      "col:  3\n",
      "1\n"
     ]
    }
   ],
   "source": [
    "def mystery(lst):\n",
    "  for row in range(1, len(lst) + 1): #range(1,3)\n",
    "    print(\"row: \", row)\n",
    "    for col in range(1, len(lst[0]) + 1): #range(1,4)\n",
    "        print(\"col: \", col)\n",
    "        print(lst[-row][-col]) #Will begin at the \"bottom right of the matrix. will print 6,5,4,3,2,1\n",
    "\n",
    "mystery([[1,2,3], \n",
    "        [4,5,6]])"
   ]
  },
  {
   "cell_type": "markdown",
   "metadata": {},
   "source": [
    "# Problem #5\n",
    "Write a function called diagonal_sum() that takes in a 2D list m as a parameters. The function returns the sum of the elements on the left diagonal of m. You can assume that the given 2D list has the same number of rows and columns."
   ]
  },
  {
   "cell_type": "code",
   "execution_count": 15,
   "metadata": {},
   "outputs": [
    {
     "name": "stdout",
     "output_type": "stream",
     "text": [
      "Input:  [[1, 2, 3], [4, 5, 6], [7, 8, 9]]\n",
      "Output:  15\n",
      "\n",
      "Input:  [[1]]\n",
      "Output:  1\n"
     ]
    }
   ],
   "source": [
    "def diagonal_sum(m):\n",
    "    #goal is to sum the integers with index i=j. i.e [1][1], [2][2] and [3][3]\n",
    "    sum = 0\n",
    "    for i in range(len(m)):\n",
    "        sum += m[i][i]\n",
    "    return sum\n",
    "\n",
    "#   for row in range(0, len(m)):\n",
    "#     print(\"row: \", row)\n",
    "#     for col in range(0, len(m)):\n",
    "#       print(\"col: \", col)\n",
    "#       if row == col:\n",
    "#         diag_sum += m[row][col]\n",
    "  \n",
    "\n",
    "# Test Cases\n",
    "m = [ [1, 2, 3],\n",
    "      [4, 5, 6],\n",
    "      [7, 8, 9]] \n",
    "\n",
    "print(\"Input: \", m)\n",
    "print(\"Output: \", diagonal_sum(m)) #15\n",
    "\n",
    "m = [[1]]\n",
    "print(\"\\nInput: \", m)\n",
    "print(\"Output: \", diagonal_sum(m)) #1\n"
   ]
  },
  {
   "cell_type": "markdown",
   "metadata": {},
   "source": [
    "# Problem #5\n",
    "Write a function called diagonal_sum() that takes in a 2D list m as a parameters. The function returns the sum of the elements on the left diagonal of m. You can assume that the given 2D list has the same number of rows and columns."
   ]
  },
  {
   "cell_type": "code",
   "execution_count": 16,
   "metadata": {},
   "outputs": [
    {
     "name": "stdout",
     "output_type": "stream",
     "text": [
      "Input:  [[1, 2], [4, 5]]\n",
      "Output:  [[2, 5], [1, 4]]\n",
      "\n",
      "Input:  [[1, 2, 3], [4, 5, 6], [7, 8, 9]]\n",
      "Output:  [[3, 6, 9], [2, 5, 8], [1, 4, 7]]\n",
      "\n",
      "Input:  [[5, 1, 9, 11], [2, 4, 8, 10], [13, 3, 6, 7], [15, 14, 12, 16]]\n",
      "Output:  [[11, 10, 7, 16], [9, 8, 6, 12], [1, 4, 3, 14], [5, 2, 13, 15]]\n"
     ]
    }
   ],
   "source": [
    "# https://www.youtube.com/watch?v=BVleZAFHSpY\n",
    "def rotate_matrix(m):\n",
    "    R,C = len(m), len((m)[0])\n",
    "    new_m = [[None] * R for _ in range(C)]\n",
    "    for c in range(C): #outer loop iterates the column\n",
    "        for r in range(R-1, -1, -1):\n",
    "            new_m[C-c-1][r] = m[r][c]\n",
    "    return new_m\n",
    "\n",
    "\n",
    "\n",
    "# Test Cases\n",
    "m = [ [1, 2],\n",
    "      [4, 5]]\n",
    "\n",
    "print(\"Input: \", m)\n",
    "print(\"Output: \", rotate_matrix(m)) #[ [2, 5],[1, 5]]\n",
    "\n",
    "m = [ [1, 2, 3],\n",
    "     [4, 5, 6],\n",
    "     [7, 8, 9]]\n",
    "print(\"\\nInput: \", m)\n",
    "print(\"Output: \", rotate_matrix(m)) #[[3, 6, 9],[2, 5, 8],[1, 4, 7]]\n",
    "\n",
    "m = [[ 5, 1, 9,11],\n",
    "     [ 2, 4, 8,10],\n",
    "     [13, 3, 6, 7],\n",
    "     [15,14,12,16]]\n",
    "print(\"\\nInput: \", m)\n",
    "print(\"Output: \", rotate_matrix(m)) #[[11,10,7, 16],[9, 8, 6, 12],[1, 4, 3, 14],[5, 2, 13,15]]"
   ]
  }
 ],
 "metadata": {
  "kernelspec": {
   "display_name": "Python 3.9.7 ('sfds')",
   "language": "python",
   "name": "python3"
  },
  "language_info": {
   "codemirror_mode": {
    "name": "ipython",
    "version": 3
   },
   "file_extension": ".py",
   "mimetype": "text/x-python",
   "name": "python",
   "nbconvert_exporter": "python",
   "pygments_lexer": "ipython3",
   "version": "3.9.7"
  },
  "orig_nbformat": 4,
  "vscode": {
   "interpreter": {
    "hash": "a8387c85817131f62b92073afbf9c4320cbcdb4fc33a940d74c72b0cf27cea34"
   }
  }
 },
 "nbformat": 4,
 "nbformat_minor": 2
}
