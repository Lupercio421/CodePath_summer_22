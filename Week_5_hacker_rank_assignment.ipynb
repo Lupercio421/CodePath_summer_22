{
 "cells": [
  {
   "cell_type": "markdown",
   "metadata": {},
   "source": [
    "# 1. Python Basics: String Operations"
   ]
  },
  {
   "cell_type": "markdown",
   "metadata": {},
   "source": [
    "What arithmetic operators cannot be used with strings in Python?\n",
    "Answer: -"
   ]
  },
  {
   "cell_type": "markdown",
   "metadata": {},
   "source": [
    "# 2. Python Basics: String Methods"
   ]
  },
  {
   "cell_type": "markdown",
   "metadata": {},
   "source": [
    "Which method converts the string \"welcome to the beautiful world of python\" to \"Welcome\n",
    "To The Beautiful World Of Python\" ?\n",
    "Wrong Answer: 'capitalize()'. Right answer: 'title()'\n"
   ]
  },
  {
   "cell_type": "markdown",
   "metadata": {},
   "source": [
    "# 3. Debugging: String Iteration\n",
    "\n",
    "In the following code segment, assume that the string str has been properly declared and initialized. The code segment is intended to print the number of strings in the array $\\textit{animals}$ that have $\\textit{str}$ as a substring."
   ]
  },
  {
   "cell_type": "code",
   "execution_count": null,
   "metadata": {},
   "outputs": [],
   "source": [
    "animals = [\"horse\", \"cow\", \"goat\", \"dog\", \"cat\", \"mouse\"]\n",
    "count = 0\n",
    "for i in range(0, len(animals)+1):\n",
    "    if str in animals[i]:\n",
    "        count += 1\n",
    "    print(count)"
   ]
  },
  {
   "cell_type": "markdown",
   "metadata": {},
   "source": [
    "$\\textbf{Wrong answer}$: \"The if statement should be changed to if animals[i] == str:\"\n",
    "$\\textbf{Right answer}$: \"The for loop header should be changed to for i in range(0, len(animals)):\""
   ]
  },
  {
   "cell_type": "markdown",
   "metadata": {},
   "source": [
    "# 4. Tracing Question: String Slicing\n",
    "\n",
    "What is the output from the following code?"
   ]
  },
  {
   "cell_type": "code",
   "execution_count": 1,
   "metadata": {},
   "outputs": [
    {
     "name": "stdout",
     "output_type": "stream",
     "text": [
      "mp\n"
     ]
    }
   ],
   "source": [
    "s = \"Computer Science is fun!\"\n",
    "s1 = s[0:8]\n",
    "s2 = s1[1:]\n",
    "s3 = s2[1:3]\n",
    "print(s3) #mp"
   ]
  },
  {
   "cell_type": "markdown",
   "metadata": {},
   "source": [
    "# 5. Tracing Question: String Operations \n",
    "\n",
    "Consider the following code:"
   ]
  },
  {
   "cell_type": "code",
   "execution_count": 4,
   "metadata": {},
   "outputs": [
    {
     "data": {
      "text/plain": [
       "'hello2hello2'"
      ]
     },
     "execution_count": 4,
     "metadata": {},
     "output_type": "execute_result"
    }
   ],
   "source": [
    "def example(a):\n",
    "    a = a + '2'\n",
    "    a = a * 2\n",
    "    return a\n",
    "\n",
    "# What is outputted when we call `example(\"hello\")`?\n",
    "\n",
    "example(\"hello\") #hello2hello2"
   ]
  },
  {
   "cell_type": "markdown",
   "metadata": {},
   "source": [
    "# 6. Tracing Question: String Iteration\n",
    "\n",
    "Consider the following code:"
   ]
  },
  {
   "cell_type": "code",
   "execution_count": 5,
   "metadata": {},
   "outputs": [
    {
     "name": "stdout",
     "output_type": "stream",
     "text": [
      "E\n",
      "L\n",
      " \n",
      "O\n",
      "L\n",
      "HElLo WOrLd\n"
     ]
    }
   ],
   "source": [
    "s = \"Hello World\"\n",
    "s2 = \"\"\n",
    "\n",
    "for i in range(len(s)):\n",
    "    c = s[i]\n",
    "    if i % 2 == 1:\n",
    "        c = c.upper()\n",
    "        print(c)\n",
    "    s2 += c\n",
    "    \n",
    "print(s2)"
   ]
  },
  {
   "cell_type": "markdown",
   "metadata": {},
   "source": [
    "# 7. Distance Between Two Words\n",
    "\n",
    "Given a list of words followed by two words, find the distance between the two words.\n",
    "\n",
    "Input:\n",
    "S = [ \"the\", \"quick\", \"brown\", \"fox\",\"quick\"], \n",
    "word1 = \"the\", \n",
    "word2 = \"fox\", \n",
    "Output: 3\n",
    "\n",
    "Input:\n",
    "S = [\"geeks\", \"for\", \"geeks\", \"contribute\", \"practice\"], \n",
    "word1 = \"geeks\", \n",
    "word2 = \"practice”, \n",
    "Output: 2"
   ]
  },
  {
   "cell_type": "code",
   "execution_count": null,
   "metadata": {},
   "outputs": [],
   "source": [
    "#!/bin/python3\n",
    "\n",
    "import math\n",
    "import os\n",
    "import random\n",
    "import re\n",
    "import sys\n",
    "\n",
    "\n",
    "#\n",
    "# Complete the 'word_distance' function below.\n",
    "#\n",
    "# The function is expected to return an INTEGER.\n",
    "# The function accepts following parameters:\n",
    "#  1. STRING_ARRAY word_list\n",
    "#  2. STRING word1\n",
    "#  3. STRING word2\n",
    "#\n",
    "\n",
    "def word_distance(word_list, word1, word2):\n",
    "    #Write your code here\n",
    "    if len(word_list) == 0:\n",
    "        print(\"Try again\")\n",
    "        \n",
    "    if word1 and word2 in word_list:\n",
    "        for i in range(len(word_list)):\n",
    "            if word_list[i] == word2:\n",
    "                pos_2 = i\n",
    "            else:\n",
    "                pass\n",
    "            if word_list[i] == word1:\n",
    "                pos_1 = i\n",
    "            else:\n",
    "                pass\n",
    "        return(pos_2-pos_1)\n",
    "           #return(int(word_list[i] == word2) - int(word_list[i]==word1))   \n",
    "    else: \n",
    "        pass\n",
    "if __name__ == '__main__':\n",
    "    fptr = open(os.environ['OUTPUT_PATH'], 'w')\n",
    "\n",
    "    array_input = input().strip().replace(\" \", \"\")\n",
    "    array_input = array_input[1:-1].split(\",\")\n",
    "    word_list = []\n",
    "    \n",
    "    for i in array_input:\n",
    "        if i == \"\":\n",
    "            break\n",
    "        word_list.append(i)\n",
    "\n",
    "    word1 = input()\n",
    "\n",
    "    word2 = input()\n",
    "\n",
    "    result = word_distance(word_list, word1, word2)\n",
    "\n",
    "    fptr.write(str(result) + '\\n')\n",
    "\n",
    "    fptr.close()\n"
   ]
  },
  {
   "cell_type": "markdown",
   "metadata": {},
   "source": [
    "Out of five test cases, this code only passed three. Resulting in a score of 30/50"
   ]
  },
  {
   "cell_type": "markdown",
   "metadata": {},
   "source": [
    "# 8. Military to Standard Time\n",
    "\n",
    "Write a function military_to_standard() that takes two integer as parameters hours and mins , that returns the time converted from 24-hour format to 12-hour format.\n",
    "\n",
    "Notes:\n",
    "- Midnight is 12:00 AM on a 12-hour clock and 00:00 on a 24-hour clock\n",
    "- Noon is 12:00 PM on 12-hour clock and 12:00 on 24-hour clock\n"
   ]
  },
  {
   "cell_type": "markdown",
   "metadata": {},
   "source": [
    "Input: hours = 12, mins = 0  \n",
    "Output: 12:00PM\n",
    "    \n",
    "Input: hours = 0, mins = 0  \n",
    "Output: 12:00AM \n",
    "   \n",
    "Input: hours = 19 mins = 30  \n",
    "Output: 7:30PM  \n",
    "  \n",
    "Input: hours = 6, mins = 59  \n",
    "Output: 6:59AM  \n"
   ]
  },
  {
   "cell_type": "code",
   "execution_count": null,
   "metadata": {},
   "outputs": [],
   "source": [
    "#!/bin/python3\n",
    "\n",
    "import math\n",
    "import os\n",
    "import random\n",
    "import re\n",
    "import sys\n",
    "\n",
    "\n",
    "#\n",
    "# Complete the 'military_to_standard' function below.\n",
    "#\n",
    "# The function is expected to return a STRING.\n",
    "# The function accepts following parameters:\n",
    "#  1. INTEGER hours\n",
    "#  2. INTEGER mins\n",
    "#\n",
    "\n",
    "def military_to_standard(hours, mins):\n",
    "    # Write your code here\n",
    "    #Lets take care of the two special cases first\n",
    "    #return(str(hours)+str(mins))\n",
    "    if hours == 12 and mins == 0:\n",
    "        return(\"12:00PM\")\n",
    "    elif hours == 0 and mins == 0:\n",
    "        return(\"12:00AM\")\n",
    "    #other cases\n",
    "    elif hours in range(0,13):\n",
    "        return (str(hours)+\":\"+str(mins)+\"AM\")\n",
    "    elif hours in range(13,25):\n",
    "        hours = hours-12\n",
    "        return (str(hours)+\":\"+str(mins)+\"PM\")\n",
    "    else:\n",
    "        pass\n",
    "if __name__ == '__main__':\n",
    "    fptr = open(os.environ['OUTPUT_PATH'], 'w')\n",
    "\n",
    "    hours = int(input().strip())\n",
    "\n",
    "    mins = int(input().strip())\n",
    "\n",
    "    result = military_to_standard(hours, mins)\n",
    "\n",
    "    fptr.write(result + '\\n')\n",
    "\n",
    "    fptr.close()\n"
   ]
  },
  {
   "cell_type": "markdown",
   "metadata": {},
   "source": [
    "Out of six test cases, I was only able to pass four of them. Resulting in a 4/6"
   ]
  },
  {
   "cell_type": "markdown",
   "metadata": {},
   "source": [
    "# 9. Challenge: Decimal to Roman\n",
    "\n",
    "Given an integer n, convert the function to the corresponding roman numbers\n",
    "  \n",
    "Note:\n",
    "- The letters I, X, C can be repeated three times in sequence. (For example: III represents 3 while XXX represents 30)\n",
    "- The letters L, V, D cannot be repeated or the number is considered to be invalid.\n",
    "- If a lower value digit is written to the left of a higher value digit, it is subtracted. (For example: IV represents 4)\n",
    "- If a lower value digit is written to the right of a higher value digit, it is added.\n",
    "- Only I, X, and C can be used as subtractive numerals.\n"
   ]
  },
  {
   "cell_type": "markdown",
   "metadata": {},
   "source": [
    "Examples:\n",
    "  \n",
    "Input: 5\n",
    "Output: V\n",
    "  \n",
    "Input: 3\n",
    "Output: III\n",
    "  \n",
    "Input: 52\n",
    "Output: LII\n",
    "  \n",
    "Input: 9\n",
    "Output: IX"
   ]
  },
  {
   "cell_type": "code",
   "execution_count": 6,
   "metadata": {},
   "outputs": [],
   "source": [
    "#INC"
   ]
  }
 ],
 "metadata": {
  "kernelspec": {
   "display_name": "Python 3.9.7 ('sfds')",
   "language": "python",
   "name": "python3"
  },
  "language_info": {
   "codemirror_mode": {
    "name": "ipython",
    "version": 3
   },
   "file_extension": ".py",
   "mimetype": "text/x-python",
   "name": "python",
   "nbconvert_exporter": "python",
   "pygments_lexer": "ipython3",
   "version": "3.9.7"
  },
  "orig_nbformat": 4,
  "vscode": {
   "interpreter": {
    "hash": "a8387c85817131f62b92073afbf9c4320cbcdb4fc33a940d74c72b0cf27cea34"
   }
  }
 },
 "nbformat": 4,
 "nbformat_minor": 2
}
