{
 "cells": [
  {
   "cell_type": "markdown",
   "metadata": {},
   "source": [
    "# 1. Python Basics: String Operations"
   ]
  },
  {
   "cell_type": "markdown",
   "metadata": {},
   "source": [
    "What arithmetic operators cannot be used with strings in Python?\n",
    "Answer: -"
   ]
  },
  {
   "cell_type": "markdown",
   "metadata": {},
   "source": [
    "# 2. Python Basics: String Methods"
   ]
  },
  {
   "cell_type": "markdown",
   "metadata": {},
   "source": [
    "Which method converts the string \"welcome to the beautiful world of python\" to \"Welcome\n",
    "To The Beautiful World Of Python\" ?\n",
    "Wrong Answer: 'capitalize()'. Right answer: 'title()'\n"
   ]
  },
  {
   "cell_type": "markdown",
   "metadata": {},
   "source": [
    "# 3. Debugging: String Iteration\n",
    "\n",
    "In the following code segment, assume that the string str has been properly declared and initialized. The code segment is intended to print the number of strings in the array $\\textit{animals}$ that have $\\textit{str}$ as a substring."
   ]
  },
  {
   "cell_type": "code",
   "execution_count": null,
   "metadata": {},
   "outputs": [],
   "source": [
    "animals = [\"horse\", \"cow\", \"goat\", \"dog\", \"cat\", \"mouse\"]\n",
    "count = 0\n",
    "for i in range(0, len(animals)+1):\n",
    "    if str in animals[i]:\n",
    "        count += 1\n",
    "    print(count)"
   ]
  },
  {
   "cell_type": "markdown",
   "metadata": {},
   "source": [
    "$\\textbf{Wrong answer}$: \"The if statement should be changed to if animals[i] == str:\"\n",
    "$\\textbf{Right answer}$: \"The for loop header should be changed to for i in range(0, len(animals)):\""
   ]
  },
  {
   "cell_type": "markdown",
   "metadata": {},
   "source": [
    "# 4. Tracing Question: String Slicing\n",
    "\n",
    "What is the output from the following code?"
   ]
  },
  {
   "cell_type": "code",
   "execution_count": 1,
   "metadata": {},
   "outputs": [
    {
     "name": "stdout",
     "output_type": "stream",
     "text": [
      "mp\n"
     ]
    }
   ],
   "source": [
    "s = \"Computer Science is fun!\"\n",
    "s1 = s[0:8]\n",
    "s2 = s1[1:]\n",
    "s3 = s2[1:3]\n",
    "print(s3) #mp"
   ]
  },
  {
   "cell_type": "markdown",
   "metadata": {},
   "source": [
    "# 5. Tracing Question: String Operations \n",
    "\n",
    "Consider the following code:"
   ]
  },
  {
   "cell_type": "markdown",
   "metadata": {},
   "source": [
    "def example(a)"
   ]
  }
 ],
 "metadata": {
  "kernelspec": {
   "display_name": "Python 3.9.7 ('sfds')",
   "language": "python",
   "name": "python3"
  },
  "language_info": {
   "codemirror_mode": {
    "name": "ipython",
    "version": 3
   },
   "file_extension": ".py",
   "mimetype": "text/x-python",
   "name": "python",
   "nbconvert_exporter": "python",
   "pygments_lexer": "ipython3",
   "version": "3.9.7"
  },
  "orig_nbformat": 4,
  "vscode": {
   "interpreter": {
    "hash": "a8387c85817131f62b92073afbf9c4320cbcdb4fc33a940d74c72b0cf27cea34"
   }
  }
 },
 "nbformat": 4,
 "nbformat_minor": 2
}
