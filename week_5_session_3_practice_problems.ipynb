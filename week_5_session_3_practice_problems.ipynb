{
 "cells": [
  {
   "cell_type": "markdown",
   "metadata": {},
   "source": [
    "# Problem #1\n",
    "What is the return value of the function call spongebob(\"codepath\")?"
   ]
  },
  {
   "cell_type": "code",
   "execution_count": 1,
   "metadata": {},
   "outputs": [
    {
     "name": "stdout",
     "output_type": "stream",
     "text": [
      "CoDePaTh\n"
     ]
    }
   ],
   "source": [
    "def spongebob(str):\n",
    "  new_str = \"\"\n",
    "  for ind, char in enumerate(str):\n",
    "\n",
    "    if ind % 2 == 1:\n",
    "      new_str += char.lower() #lowercase the odd indices\n",
    "    else:\n",
    "      new_str += char.upper() #uppercase the even indices\n",
    "  return new_str\n",
    "\n",
    "print(spongebob(\"codepath\"))"
   ]
  },
  {
   "cell_type": "markdown",
   "metadata": {},
   "source": [
    "# Problem #2\n",
    "What is the return value of the function call unique(\"apple\")?"
   ]
  },
  {
   "cell_type": "code",
   "execution_count": 9,
   "metadata": {},
   "outputs": [
    {
     "name": "stdout",
     "output_type": "stream",
     "text": [
      "['a', 'p', 'l', 'e']\n"
     ]
    }
   ],
   "source": [
    "def unique(str):\n",
    "    letters = []\n",
    "\n",
    "    for char in str:\n",
    "        if char not in letters:\n",
    "            letters.append(char)\n",
    "        else:\n",
    "            pass\n",
    "\n",
    "    return letters\n",
    "\n",
    "print(unique('appple'))"
   ]
  },
  {
   "cell_type": "markdown",
   "metadata": {},
   "source": [
    "# Problem #3\n",
    "What is the return value for the function call parse_sentence(\"red. green. blue.\")?"
   ]
  },
  {
   "cell_type": "code",
   "execution_count": 10,
   "metadata": {},
   "outputs": [
    {
     "name": "stdout",
     "output_type": "stream",
     "text": [
      "red\n"
     ]
    }
   ],
   "source": [
    "def parse_sentence(str):\n",
    "    i = 0\n",
    "    for char in str:\n",
    "        if char != \".\":\n",
    "            i += 1\n",
    "        else:\n",
    "            return str[:i] #i = 3\n",
    "    return str\n",
    "\n",
    "print(parse_sentence(\"red. green. blue.\"))\n"
   ]
  },
  {
   "cell_type": "markdown",
   "metadata": {},
   "source": [
    "# Problem #4\n",
    "What is the return value of the function call mystery(\"abracadabra\")?"
   ]
  },
  {
   "cell_type": "code",
   "execution_count": 13,
   "metadata": {},
   "outputs": [
    {
     "name": "stdout",
     "output_type": "stream",
     "text": [
      "ABRACadabra\n"
     ]
    }
   ],
   "source": [
    "# print(int(11/2))\n",
    "def mystery(str):\n",
    "  i = int(len(str)/2) #5\n",
    "  #return i, len(str)\n",
    "  a = str[:i] #abrac\n",
    "  b = str[i:] #adabra\n",
    "  return a.upper() + b.lower()\n",
    "\n",
    "print(mystery(\"abracadabra\"))"
   ]
  },
  {
   "cell_type": "markdown",
   "metadata": {},
   "source": [
    "# Problem #5\n",
    "\n",
    "Write a function called is_anagram() that takes two string arguments, str1 and str2. The function check whether str1 and str2 are an anagram of each other or not. If the strings are anagrams, return True. Otherwise, False.\n",
    "\n",
    "An anagram of a string is another string that contains the same characters, only the order of characters can be different."
   ]
  },
  {
   "cell_type": "code",
   "execution_count": 14,
   "metadata": {},
   "outputs": [
    {
     "name": "stdout",
     "output_type": "stream",
     "text": [
      "True\n",
      "False\n",
      "False\n"
     ]
    }
   ],
   "source": [
    "def is_anagram(x1, x2):\n",
    "  if len(x1) != len(x2):\n",
    "    return False\n",
    "  else:\n",
    "    pass\n",
    "  \n",
    "  for char in x1:\n",
    "    if char in x2:\n",
    "      return (True)\n",
    "    else:\n",
    "      return (False)\n",
    "  return (1)\n",
    "\n",
    "x1 = \"listen\"\n",
    "x2 = \"silent\"\n",
    "x3 = \"dog\"\n",
    "x4 = \"cat\"\n",
    "x5= \"capture\"\n",
    "x6 = \"cat\"\n",
    "print(is_anagram(x1, x2))\n",
    "print(is_anagram(x3, x4))\n",
    "print(is_anagram(x5, x6))"
   ]
  },
  {
   "cell_type": "markdown",
   "metadata": {},
   "source": [
    "# Problem #6\n",
    "\n",
    "Write a function called first_repeated_word() that takes in a single parameter, sentence. The function returns the first repeated word in a given string. If there are no repeated words, return None."
   ]
  },
  {
   "cell_type": "code",
   "execution_count": 15,
   "metadata": {},
   "outputs": [
    {
     "name": "stdout",
     "output_type": "stream",
     "text": [
      "['Mary', 'had', 'a', 'little', 'lamb', 'little', 'lamb']\n",
      "lamb\n"
     ]
    }
   ],
   "source": [
    "def first_repeated_word(sent):\n",
    "  empty = []\n",
    "  sent1 = sent.split(\" \")\n",
    "  for word in sent1:\n",
    "    empty.append(word)\n",
    "  print(empty)\n",
    "  if word in empty:\n",
    "    return word\n",
    "  else:\n",
    "    pass\n",
    "\n",
    "\n",
    "print(first_repeated_word(\"Mary had a little lamb little lamb\"))"
   ]
  }
 ],
 "metadata": {
  "kernelspec": {
   "display_name": "Python 3.9.7 ('sfds')",
   "language": "python",
   "name": "python3"
  },
  "language_info": {
   "codemirror_mode": {
    "name": "ipython",
    "version": 3
   },
   "file_extension": ".py",
   "mimetype": "text/x-python",
   "name": "python",
   "nbconvert_exporter": "python",
   "pygments_lexer": "ipython3",
   "version": "3.9.7"
  },
  "orig_nbformat": 4,
  "vscode": {
   "interpreter": {
    "hash": "a8387c85817131f62b92073afbf9c4320cbcdb4fc33a940d74c72b0cf27cea34"
   }
  }
 },
 "nbformat": 4,
 "nbformat_minor": 2
}
