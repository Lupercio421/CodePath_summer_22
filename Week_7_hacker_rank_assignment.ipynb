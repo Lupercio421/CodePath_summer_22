{
 "cells": [
  {
   "cell_type": "markdown",
   "metadata": {},
   "source": [
    "# 4. Concept Question: Strings/Array Algorithms\n",
    "If we want to find the maximum sum for a sublist of length k, what technique shoud we use?\n"
   ]
  },
  {
   "cell_type": "markdown",
   "metadata": {},
   "source": [
    "```\n",
    "Input: [1,4,6,7,2,1,1], k = 3\n",
    "Output: 17\n",
    "Explanation: The sublist [4,6,7] has a sum of 17.\n",
    "```"
   ]
  },
  {
   "cell_type": "markdown",
   "metadata": {},
   "source": [
    "# 5. Tracing Question: String/Arrays\n",
    "\n",
    "Consider the following code snippet. What is returned when we call mystery('ababababa')?"
   ]
  },
  {
   "cell_type": "code",
   "execution_count": 2,
   "metadata": {},
   "outputs": [
    {
     "name": "stdout",
     "output_type": "stream",
     "text": [
      "['aba', 'bab']\n"
     ]
    }
   ],
   "source": [
    "def mystery(s):\n",
    "    ptr1 = 0\n",
    "    ptr2 = 3\n",
    "\n",
    "    lst = []\n",
    "\n",
    "    while ptr2 <= len(s):\n",
    "        sub = s[ptr1:ptr2]\n",
    "        if sub not in lst:\n",
    "            lst.append(sub)\n",
    "        ptr1 += 1\n",
    "        ptr2 += 1\n",
    "    return lst\n",
    "\n",
    "print(mystery('ababababa'))\n"
   ]
  },
  {
   "cell_type": "markdown",
   "metadata": {},
   "source": [
    "# 6. Tracing Question: Strings/Arrays\n",
    "\n",
    "Consider the following code snippet. What is returned when we call mystery([1,1,2])?"
   ]
  },
  {
   "cell_type": "code",
   "execution_count": 1,
   "metadata": {},
   "outputs": [
    {
     "name": "stdout",
     "output_type": "stream",
     "text": [
      "2\n"
     ]
    }
   ],
   "source": [
    "def mystery(nums):\n",
    "    if len(nums) == 0:\n",
    "        return 0\n",
    "    i = 0\n",
    "    for j in range(1, len(nums)): #(1,3)\n",
    "        if nums[j] != nums[i]: #if nums[1] (1) != nums[0] (1)\n",
    "            i += 1\n",
    "            nums[i] = nums[j]\n",
    "\n",
    "    return i + 1\n",
    "\n",
    "print(mystery([1,1,2]))"
   ]
  },
  {
   "cell_type": "markdown",
   "metadata": {},
   "source": []
  },
  {
   "cell_type": "code",
   "execution_count": null,
   "metadata": {},
   "outputs": [],
   "source": [
    "#!/bin/python3\n",
    "\n",
    "import math\n",
    "import os\n",
    "import random\n",
    "import re\n",
    "import sys\n",
    "\n",
    "\n",
    "\n",
    "#\n",
    "# Complete the 'first_palindrome' function below.\n",
    "#\n",
    "# The function is expected to return a STRING.\n",
    "# The function accepts STRING LIST words as parameter.\n",
    "#\n",
    "\n",
    "def first_palindrome(words):\n",
    "    # Write your code here\n",
    "    # Iterate through the elements in order. As soon as the current element is a palindrome,    return it.\n",
    "    # To check if an element is a palindrome, can you reverse the string?\n",
    "    for i in range(len(words)):\n",
    "        if words[i][::-1] == words[i]:\n",
    "            return (words[i])\n",
    "        else:\n",
    "            print(\"\")\n",
    "    \n",
    "    \n",
    "\n",
    "if __name__ == '__main__':\n",
    "    fptr = open(os.environ['OUTPUT_PATH'], 'w')\n",
    "\n",
    "    words_count = int(input().strip())\n",
    "\n",
    "    words = []\n",
    "\n",
    "    for _ in range(words_count):\n",
    "        words_item = input()\n",
    "        words.append(words_item)\n",
    "\n",
    "    result = first_palindrome(words)\n",
    "\n",
    "    fptr.write(result + '\\n')\n",
    "\n",
    "    fptr.close()\n"
   ]
  },
  {
   "cell_type": "markdown",
   "metadata": {},
   "source": [
    "# 8. Subarray Sum\n",
    "Given an integer list nums, find a contiguous sublist of size 3 with a given sum in it"
   ]
  },
  {
   "cell_type": "code",
   "execution_count": null,
   "metadata": {},
   "outputs": [],
   "source": [
    "#!/bin/python3\n",
    "\n",
    "import math\n",
    "import os\n",
    "import random\n",
    "import re\n",
    "import sys\n",
    "\n",
    "\n",
    "\n",
    "#AS POINTED OUT BY A STUDENT, TEST CASE 1 IS RETURNING THE INCORRECT INTEGER LIST\n",
    "# Complete the 'subarray_sum' function below.\n",
    "#\n",
    "# The function is expected to return an INTEGER_ARRAY.\n",
    "# The function accepts following parameters:\n",
    "#  1. INTEGER_ARRAY nums\n",
    "#  2. INTEGER target\n",
    "#\n",
    "\n",
    "def subarray_sum(nums, target):\n",
    "    # Write your code here\n",
    "    ptr1 = 0\n",
    "    ptr2 = 3\n",
    "    sum = 0\n",
    "    #current_max = nums[0]\n",
    "    while ptr2 <= len(nums)+1:\n",
    "        #for i in range(len(nums)):\n",
    "        for j in nums[ptr1:ptr2]:\n",
    "            sum += j\n",
    "            if sum == target:\n",
    "                return nums[ptr1:ptr2]\n",
    "\n",
    "        sum = 0\n",
    "        ptr1 += 1\n",
    "        ptr2 += 1  \n",
    "        \n",
    "# I DONT UNDERSTAND, FOR THE THIRD TEST CASE IN THE EXAMPLES, WHEN I SET THE TARGET TO 6, THE SUBLIST WITH THE SUM OF 6 IS [6,1,4]??    \n",
    "\n",
    "if __name__ == '__main__':\n",
    "    fptr = open(os.environ['OUTPUT_PATH'], 'w')\n",
    "\n",
    "    array_input = input().strip().replace(\" \", \"\")\n",
    "    array_input = array_input[1:-1].split(\",\")\n",
    "    nums = []\n",
    "\n",
    "    for i in array_input:\n",
    "        if i == \"\":\n",
    "            break\n",
    "        nums.append(int(i))\n",
    "\n",
    "    target = int(input().strip())\n",
    "\n",
    "    result = subarray_sum(nums, target)\n",
    "\n",
    "    fptr.write('\\n'.join(map(str, result)))\n",
    "    fptr.write('\\n')\n",
    "\n",
    "    fptr.close()\n"
   ]
  },
  {
   "cell_type": "markdown",
   "metadata": {},
   "source": [
    "# 9. Complete the 'palindrome_del' function below.\n",
    "\n",
    "The function is expected to return a BOOLEAN.\n",
    "The function accepts STRING s as parameter.\n"
   ]
  },
  {
   "cell_type": "markdown",
   "metadata": {},
   "source": []
  }
 ],
 "metadata": {
  "kernelspec": {
   "display_name": "Python 3.9.7 ('sfds')",
   "language": "python",
   "name": "python3"
  },
  "language_info": {
   "codemirror_mode": {
    "name": "ipython",
    "version": 3
   },
   "file_extension": ".py",
   "mimetype": "text/x-python",
   "name": "python",
   "nbconvert_exporter": "python",
   "pygments_lexer": "ipython3",
   "version": "3.9.7"
  },
  "orig_nbformat": 4,
  "vscode": {
   "interpreter": {
    "hash": "a8387c85817131f62b92073afbf9c4320cbcdb4fc33a940d74c72b0cf27cea34"
   }
  }
 },
 "nbformat": 4,
 "nbformat_minor": 2
}
