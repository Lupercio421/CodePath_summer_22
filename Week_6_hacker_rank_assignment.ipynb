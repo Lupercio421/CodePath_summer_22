{
 "cells": [
  {
   "cell_type": "markdown",
   "metadata": {},
   "source": [
    "# 1. Python Basics: 2D Lists\n",
    "How many columns dos the list have?"
   ]
  },
  {
   "cell_type": "code",
   "execution_count": null,
   "metadata": {},
   "outputs": [],
   "source": []
  },
  {
   "cell_type": "markdown",
   "metadata": {},
   "source": [
    "# 2. Python Basics: 2D Lists\n",
    "What code snippet will create the 2D list that look like the following?\n",
    "\n",
    "Pick one option:"
   ]
  },
  {
   "cell_type": "code",
   "execution_count": null,
   "metadata": {},
   "outputs": [],
   "source": []
  },
  {
   "cell_type": "markdown",
   "metadata": {},
   "source": [
    "# 3. Python Basics: 2D Lists\n",
    "Select all that apply: Which of the following code segments will properly return the column size of a balanced 2D list matrix thta has 2 rows and 4 columns?"
   ]
  },
  {
   "cell_type": "code",
   "execution_count": null,
   "metadata": {},
   "outputs": [],
   "source": []
  },
  {
   "cell_type": "markdown",
   "metadata": {},
   "source": [
    "# 4. Python Basics: 2D Lists\n",
    "Which of the following statements will assign the letter `a` to the 4th row and the 2nd column of the 2D list mylist?"
   ]
  },
  {
   "cell_type": "code",
   "execution_count": null,
   "metadata": {},
   "outputs": [],
   "source": []
  },
  {
   "cell_type": "markdown",
   "metadata": {},
   "source": [
    "# 5. Tracing: 2D lists\n",
    "\n",
    "What is the output of the following code snippet?"
   ]
  },
  {
   "cell_type": "code",
   "execution_count": null,
   "metadata": {},
   "outputs": [],
   "source": []
  },
  {
   "cell_type": "markdown",
   "metadata": {},
   "source": []
  },
  {
   "cell_type": "code",
   "execution_count": null,
   "metadata": {},
   "outputs": [],
   "source": [
    "#!/bin/python3\n",
    "\n",
    "import math\n",
    "import os\n",
    "import random\n",
    "import re\n",
    "import sys\n",
    "#\n",
    "# Complete the 'find' function below.\n",
    "#\n",
    "# The function is expected to return a BOOLEAN.\n",
    "# The function accepts following parameters:\n",
    "#  1. INTEGER 2D List matrix\n",
    "#  2. INTEGER k\n",
    "#\n",
    "\n",
    "def find(matrix, k):\n",
    "    # Write your code here\n",
    "    for row in range(len(matrix)):  #for each sublist in the matrix\n",
    "        #print(matrix[row])\n",
    "        if k in matrix[row]: #if k is in the sublist\n",
    "            return(True) #return thise\n",
    "        else: #otherwise\n",
    "            continue #continue with the if statement\n",
    "    return(False) #if k is not in any of the sublists, then exit the for loop and return False\n",
    "\n",
    "if __name__ == '__main__':\n",
    "    fptr = open(os.environ['OUTPUT_PATH'], 'w')\n",
    "\n",
    "    s = input().strip().replace(\" \", \"\")\n",
    "    s = s[1:-1]\n",
    "\n",
    "    matrix = []\n",
    "\n",
    "    while len(s)>0:\n",
    "        if s[0] == ',': \n",
    "            s = s[1:]\n",
    "        arr_end = s.index(']')\n",
    "        str_arr = s[1:arr_end].split(\",\")\n",
    "        int_arr = []\n",
    "        for i in str_arr:\n",
    "            int_arr.append(int(i))\n",
    "        matrix.append(int_arr)\n",
    "        s = s[arr_end+1:]\n",
    "\n",
    "    k = int(input().strip())\n",
    "\n",
    "    result = find(matrix, k)\n",
    "\n",
    "    fptr.write(str(int(result)) + '\\n')\n",
    "\n",
    "    fptr.close()\n",
    "\n",
    "matrix1 = [[1, 2], [3, 4, 5, 6], [7], [8, 9], [10, 11, 12],[1],[3,2,5,2,5,2,1,2,4]]\n",
    "print(find(matrix1))"
   ]
  },
  {
   "cell_type": "markdown",
   "metadata": {},
   "source": []
  },
  {
   "cell_type": "code",
   "execution_count": null,
   "metadata": {},
   "outputs": [],
   "source": [
    "#!/bin/python3\n",
    "\n",
    "import math\n",
    "import os\n",
    "import random\n",
    "import re\n",
    "import sys\n",
    "\n",
    "\n",
    "#\n",
    "# Complete the 'transpose_matrix' function below.\n",
    "#\n",
    "# The function is expected to return a 2D_INTEGER_ARRAY.\n",
    "# The function accepts 2D_INTEGER_ARRAY matrix as parameter.\n",
    "#\n",
    "\n",
    "def transpose_matrix(matrix):\n",
    "    matrix2 = [[0 for x in range(len(matrix))] for y in range(len(matrix))]\n",
    "    # Write your code here\n",
    "    print(len(matrix), len(matrix[0]))\n",
    "    if (len(matrix)) < (len(matrix[0])):\n",
    "        for i in range(len(matrix)):\n",
    "        #print(\"row: \", i)\n",
    "            for j in range(0, matrix[-1]): #can't think of a way to not get the range out of index for this if case\n",
    "            #print(\"col: \", j)\n",
    "                matrix2[i][j] = matrix[j][i]\n",
    "    elif (len(matrix)) == (len(matrix[0])):\n",
    "        for i in range(len(matrix)):\n",
    "            for j in range(len(matrix)):\n",
    "                #print(\"col: \", j)\n",
    "                matrix2[i][j] = matrix[j][i]\n",
    "    else:\n",
    "        pass\n",
    "    return matrix2\n",
    "            \n",
    "if __name__ == '__main__':\n",
    "    fptr = open(os.environ['OUTPUT_PATH'], 'w')\n",
    "\n",
    "    matrix_rows = int(input().strip())\n",
    "    matrix_columns = int(input().strip())\n",
    "\n",
    "    matrix = []\n",
    "\n",
    "    for _ in range(matrix_rows):\n",
    "        matrix.append(list(map(int, input().rstrip().split())))\n",
    "\n",
    "    result = transpose_matrix(matrix)\n",
    "\n",
    "    fptr.write('\\n'.join([' '.join(map(str, x)) for x in result]))\n",
    "    fptr.write('\\n')\n",
    "\n",
    "    fptr.close()\n"
   ]
  }
 ],
 "metadata": {
  "kernelspec": {
   "display_name": "Python 3.9.7 ('sfds')",
   "language": "python",
   "name": "python3"
  },
  "language_info": {
   "codemirror_mode": {
    "name": "ipython",
    "version": 3
   },
   "file_extension": ".py",
   "mimetype": "text/x-python",
   "name": "python",
   "nbconvert_exporter": "python",
   "pygments_lexer": "ipython3",
   "version": "3.9.7"
  },
  "orig_nbformat": 4,
  "vscode": {
   "interpreter": {
    "hash": "a8387c85817131f62b92073afbf9c4320cbcdb4fc33a940d74c72b0cf27cea34"
   }
  }
 },
 "nbformat": 4,
 "nbformat_minor": 2
}
