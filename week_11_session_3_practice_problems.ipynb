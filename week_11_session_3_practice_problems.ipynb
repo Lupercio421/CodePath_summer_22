{
 "cells": [
  {
   "cell_type": "markdown",
   "metadata": {},
   "source": [
    "# Problem #1\n",
    "What is the output of mystery(5)? How many times is the function mystery called when tracing through the results of mystery(5)? Can you identify the base case and recursive step?"
   ]
  },
  {
   "cell_type": "code",
   "execution_count": 1,
   "metadata": {},
   "outputs": [
    {
     "name": "stdout",
     "output_type": "stream",
     "text": [
      "32\n"
     ]
    }
   ],
   "source": [
    "def mystery(n):\n",
    "    if n == 1:\n",
    "        return 2\n",
    "    return 2 * mystery(n-1)\n",
    "\n",
    "print(mystery(5))"
   ]
  },
  {
   "cell_type": "markdown",
   "metadata": {},
   "source": [
    "# Problem #2\n",
    "Look a the following code snippet. Trace through the code without running it. What is the output when sum_evens([1, -5, 3, 4, 15, 26]) is called?"
   ]
  },
  {
   "cell_type": "code",
   "execution_count": 4,
   "metadata": {},
   "outputs": [
    {
     "name": "stdout",
     "output_type": "stream",
     "text": [
      "30\n"
     ]
    }
   ],
   "source": [
    "def sum_evens(mylist):\n",
    "        current_sum = 0\n",
    "        for item in mylist:\n",
    "            if item % 2 == 0:\n",
    "                current_sum += item\n",
    "        return current_sum\n",
    "\n",
    "print(sum_evens([1, -5, 3, 4, 15, 26])) #4 and 26 are the even numbers, where current_sum will be increased"
   ]
  },
  {
   "cell_type": "markdown",
   "metadata": {},
   "source": [
    "# Problem #3\n",
    "Determine the output of the following code snippet."
   ]
  },
  {
   "cell_type": "code",
   "execution_count": 5,
   "metadata": {},
   "outputs": [
    {
     "name": "stdout",
     "output_type": "stream",
     "text": [
      "20 4\n",
      "19 6\n",
      "18 8\n",
      "17 10\n",
      "16 12\n",
      "15 14\n"
     ]
    }
   ],
   "source": [
    "a = 20\n",
    "b = 4\n",
    "\n",
    "while a > b:\n",
    "   print(a, b)\n",
    "   a -= 1\n",
    "   b += 2"
   ]
  },
  {
   "cell_type": "markdown",
   "metadata": {},
   "source": [
    "# Problem #4\n",
    "Write a function `add_digits()` that takes in a number and adds all of its digits until the result has only one digit and returns it."
   ]
  },
  {
   "cell_type": "code",
   "execution_count": 18,
   "metadata": {},
   "outputs": [
    {
     "name": "stdout",
     "output_type": "stream",
     "text": [
      "Input:  38\n",
      "Second num definition:  11\n",
      "Output:  2\n"
     ]
    }
   ],
   "source": [
    "# Write a function `add_digits()` that takes in a number and adds all of its digits until the result has only one digit and returns it. \n",
    "\n",
    "# def add_digits(num):\n",
    "#     #turn into a string? But we can't add strings\n",
    "#     #turn into string, then split? Then perhaps turn into an int and then add. Seems inefficent if recursively is the goal\n",
    "#     print(num[0])\n",
    "\n",
    "def add_digits(num):\n",
    "    digital_root = 0\n",
    "    while num > 0:\n",
    "        digital_root += num % 10 #smart idea, 38 modulo 10 is 8\n",
    "        #print(digital_root)\n",
    "        num = num//10 #38//10\n",
    "        # print(num)\n",
    "\n",
    "        if num == 0 and digital_root > 9:\n",
    "            num = digital_root\n",
    "            print(\"Second num definition: \", num)\n",
    "            digital_root = 0  \n",
    "\n",
    "    return digital_root\n",
    "\n",
    "# Test Cases\n",
    "num = 38\n",
    "print(\"Input: \", num)\n",
    "print(\"Output: \", add_digits(num)) # 2\n",
    "\n",
    "# num = 0\n",
    "# print(\"\\nInput: \", num)\n",
    "# print(\"Output: \", add_digits(num)) # 0\n",
    "\n",
    "# num = 42\n",
    "# print(\"\\nInput: \", num)\n",
    "# print(\"Output: \", add_digits(num)) # 6\n",
    "\n",
    "# num = 89\n",
    "# print(\"\\nInput: \", num)\n",
    "# print(\"Output: \", add_digits(num)) # 8"
   ]
  },
  {
   "cell_type": "code",
   "execution_count": 17,
   "metadata": {},
   "outputs": [
    {
     "name": "stdout",
     "output_type": "stream",
     "text": [
      "4\n",
      "2.2\n",
      "111\n",
      "11\n",
      "1110\n"
     ]
    }
   ],
   "source": [
    "print(44//10)\n",
    "print(22/10)\n",
    "print(1119//10)\n",
    "print(113//10)\n",
    "print(111*10)"
   ]
  },
  {
   "cell_type": "markdown",
   "metadata": {},
   "source": [
    "# Problem #5\n",
    "Write the function `singleton_elements()` which takes a list and returns the elements that occur exactly once."
   ]
  },
  {
   "cell_type": "code",
   "execution_count": 19,
   "metadata": {},
   "outputs": [
    {
     "name": "stdout",
     "output_type": "stream",
     "text": [
      "Input:  [1, 2, 1, 3, 3, 1]\n",
      "Output:  [2]\n",
      "\n",
      "Input:  [1, 2, 2, 6, 1, 3, 2]\n",
      "Output:  [6, 3]\n",
      "\n",
      "Input:  [2, 2]\n",
      "Output:  []\n"
     ]
    }
   ],
   "source": [
    "# Write the function `singleton_elements()` which takes a list and returns the elements that occur exactly once.\n",
    "\n",
    "def singleton_elements(mylist):\n",
    "    d = {}\n",
    "    for item in mylist:\n",
    "        d[item] = d.get(item, 0) + 1\n",
    "    result = []\n",
    "\n",
    "    for item, count in d.items():\n",
    "        if count == 1:\n",
    "            result.append(item)\n",
    "    return result\n",
    "\n",
    "\n",
    "# Test Cases\n",
    "mylist = [1, 2, 1, 3, 3, 1]\n",
    "print(\"Input: \", mylist)\n",
    "print(\"Output: \", singleton_elements(mylist)) # [2]\n",
    "\n",
    "mylist = [1, 2, 2, 6, 1, 3, 2]\n",
    "print(\"\\nInput: \", mylist)\n",
    "print(\"Output: \", singleton_elements(mylist)) # [6, 3]\n",
    "\n",
    "mylist = [2, 2]\n",
    "print(\"\\nInput: \", mylist)\n",
    "print(\"Output: \", singleton_elements(mylist)) # []\n"
   ]
  },
  {
   "cell_type": "markdown",
   "metadata": {},
   "source": [
    "# Problem #6\n",
    "Write a function which takes a list `mylist` and finds indices i and j such that `mylist[j] == mylist[i]`. Find such indices that are as far apart as possible (`j-i` is maximized)."
   ]
  },
  {
   "cell_type": "code",
   "execution_count": 20,
   "metadata": {},
   "outputs": [
    {
     "name": "stdout",
     "output_type": "stream",
     "text": [
      "Input:  [9, 2, 4, 4, 9, 4]\n",
      "Output:  (0, 4)\n",
      "\n",
      "Input:  [1, 2, 2, 6, 1, 3, 2]\n",
      "Output:  (1, 6)\n",
      "\n",
      "Input:  [2, 2]\n",
      "Output:  (0, 1)\n"
     ]
    }
   ],
   "source": [
    "# Write a function which takes a list `mylist` and finds indices i and j such that `mylist[j] == mylist[i]`. Find such indices that are as far apart as possible (`j-i` is maximized).\n",
    "\n",
    "# Solution #1 - Runtime O(N^2)\n",
    "def max_index_diff(mylist):\n",
    "    current_max = None\n",
    "    current_i = None\n",
    "    current_j = None\n",
    "\n",
    "    for i, item_i in enumerate(mylist):\n",
    "        for j, item_j in enumerate(mylist):\n",
    "          if item_i != item_j:\n",
    "              continue\n",
    "          if current_max is None or j - i > current_max:\n",
    "              current_max = j - i\n",
    "              current_i = i\n",
    "              current_j = j\n",
    "    return current_i, current_j\n",
    "    \n",
    "def max_index_diff_2(mylist):\n",
    "        '''\n",
    "        Given a list, find indices i & j whose elements have the same values\n",
    "        and the distance j-i is maximized.\n",
    "        '''\n",
    "        d = {}\n",
    "        current_max = None\n",
    "        best_i = None\n",
    "        best_j = None\n",
    "        for j, item in enumerate(mylist):\n",
    "            if item in d:\n",
    "                i = d[item]\n",
    "                if current_max is None or j - i > current_max:\n",
    "                    current_max = j - i\n",
    "                    best_i = i\n",
    "                    best_j = j\n",
    "            else:\n",
    "                d[item] = j\n",
    "        return best_i, best_j\n",
    "\n",
    "# Test Cases\n",
    "mylist = [9, 2, 4, 4, 9, 4]\n",
    "print(\"Input: \", mylist)\n",
    "print(\"Output: \", max_index_diff(mylist)) # (0, 4)\n",
    "\n",
    "mylist = [1, 2, 2, 6, 1, 3, 2]\n",
    "print(\"\\nInput: \", mylist)\n",
    "print(\"Output: \", max_index_diff(mylist)) # (1, 6)\n",
    "\n",
    "mylist = [2, 2]\n",
    "print(\"\\nInput: \", mylist)\n",
    "print(\"Output: \", max_index_diff(mylist)) # (0, 1)"
   ]
  }
 ],
 "metadata": {
  "kernelspec": {
   "display_name": "Python 3.9.7 ('sfds')",
   "language": "python",
   "name": "python3"
  },
  "language_info": {
   "codemirror_mode": {
    "name": "ipython",
    "version": 3
   },
   "file_extension": ".py",
   "mimetype": "text/x-python",
   "name": "python",
   "nbconvert_exporter": "python",
   "pygments_lexer": "ipython3",
   "version": "3.9.7"
  },
  "orig_nbformat": 4,
  "vscode": {
   "interpreter": {
    "hash": "a8387c85817131f62b92073afbf9c4320cbcdb4fc33a940d74c72b0cf27cea34"
   }
  }
 },
 "nbformat": 4,
 "nbformat_minor": 2
}
