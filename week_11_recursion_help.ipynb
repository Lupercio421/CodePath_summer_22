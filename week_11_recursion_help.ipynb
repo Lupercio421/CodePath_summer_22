{
 "cells": [
  {
   "cell_type": "code",
   "execution_count": 1,
   "metadata": {
    "collapsed": true
   },
   "outputs": [],
   "source": [
    "def fact(n):\n",
    "    # assuming that n is a positive integer or 0\n",
    "    if n >= 1:\n",
    "        return n * fact(n - 1)\n",
    "    else:\n",
    "        return 1"
   ]
  },
  {
   "cell_type": "code",
   "execution_count": 2,
   "metadata": {},
   "outputs": [
    {
     "name": "stdout",
     "output_type": "stream",
     "text": [
      "0! = 1\n",
      "1! = 1\n",
      "2! = 2\n",
      "3! = 6\n",
      "4! = 24\n"
     ]
    }
   ],
   "source": [
    "print(\"0! =\", fact(0))\n",
    "print(\"1! =\", fact(1))\n",
    "print(\"2! =\", fact(2))\n",
    "print(\"3! =\", fact(3))\n",
    "print(\"4! =\", fact(4))"
   ]
  },
  {
   "cell_type": "code",
   "execution_count": 3,
   "metadata": {
    "collapsed": true
   },
   "outputs": [],
   "source": [
    "def fib(n):\n",
    "    # assuming that n is a positive integer\n",
    "    if n >= 3:\n",
    "        return fib(n-1) + fib(n-2)\n",
    "    else:\n",
    "        return 1"
   ]
  },
  {
   "cell_type": "code",
   "execution_count": 4,
   "metadata": {},
   "outputs": [
    {
     "name": "stdout",
     "output_type": "stream",
     "text": [
      "fib(1) = 1\n",
      "fib(2) = 1\n",
      "fib(3) = 2\n",
      "fib(4) = 3\n",
      "fib(5) = 5\n"
     ]
    }
   ],
   "source": [
    "print(\"fib(1) =\", fib(1))\n",
    "print(\"fib(2) =\", fib(2))\n",
    "print(\"fib(3) =\", fib(3))\n",
    "print(\"fib(4) =\", fib(4))\n",
    "print(\"fib(5) =\", fib(5))"
   ]
  },
  {
   "cell_type": "code",
   "execution_count": 4,
   "metadata": {},
   "outputs": [
    {
     "name": "stdout",
     "output_type": "stream",
     "text": [
      "16\n",
      "13\n",
      "d\n",
      "16\n",
      "10\n",
      "a\n",
      "5ad\n"
     ]
    }
   ],
   "source": [
    "CHAR_FOR_INT = '0123456789abcdef'\n",
    "\n",
    "def to_string(n, base):\n",
    "    if n < base:\n",
    "        return CHAR_FOR_INT[n]\n",
    "    print(base)\n",
    "    print(n%base)\n",
    "    print(CHAR_FOR_INT[n % base])\n",
    "    return to_string(n//base, base) + CHAR_FOR_INT[n % base]\n",
    "\n",
    "print(to_string(1453,16))"
   ]
  },
  {
   "cell_type": "code",
   "execution_count": null,
   "metadata": {},
   "outputs": [],
   "source": []
  }
 ],
 "metadata": {
  "kernelspec": {
   "display_name": "Python 3.9.7 ('sfds')",
   "language": "python",
   "name": "python3"
  },
  "language_info": {
   "codemirror_mode": {
    "name": "ipython",
    "version": 3
   },
   "file_extension": ".py",
   "mimetype": "text/x-python",
   "name": "python",
   "nbconvert_exporter": "python",
   "pygments_lexer": "ipython3",
   "version": "3.9.7"
  },
  "vscode": {
   "interpreter": {
    "hash": "a8387c85817131f62b92073afbf9c4320cbcdb4fc33a940d74c72b0cf27cea34"
   }
  }
 },
 "nbformat": 4,
 "nbformat_minor": 2
}
