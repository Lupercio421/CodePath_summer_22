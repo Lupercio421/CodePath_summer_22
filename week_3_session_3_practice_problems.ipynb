{
 "cells": [
  {
   "cell_type": "markdown",
   "metadata": {},
   "source": [
    "# Problem #1: What is the return value of the function call mystery([6, 0, 9])?"
   ]
  },
  {
   "cell_type": "code",
   "execution_count": 1,
   "metadata": {},
   "outputs": [
    {
     "name": "stdout",
     "output_type": "stream",
     "text": [
      "[12, 0, 18]\n"
     ]
    }
   ],
   "source": [
    "def mystery(lst):\n",
    "    for i in range(len(lst)):\n",
    "        lst[i] *= 2\n",
    "    return lst\n",
    "\n",
    "print(mystery([6,0,9]))"
   ]
  },
  {
   "cell_type": "markdown",
   "metadata": {},
   "source": [
    "# Problem #2: What is the return value of the function call mystery([1,2,4,3,2], 2)?"
   ]
  },
  {
   "cell_type": "code",
   "execution_count": 3,
   "metadata": {},
   "outputs": [
    {
     "data": {
      "text/plain": [
       "2"
      ]
     },
     "execution_count": 3,
     "metadata": {},
     "output_type": "execute_result"
    }
   ],
   "source": [
    "def mystery(lst, x):\n",
    "    y = 0\n",
    "    for i in lst:\n",
    "        if (i == x):\n",
    "            y = y + 1\n",
    "    return y\n",
    "\n",
    "mystery([1,2,4,3,2], 2)"
   ]
  },
  {
   "cell_type": "code",
   "execution_count": 2,
   "metadata": {},
   "outputs": [
    {
     "name": "stdout",
     "output_type": "stream",
     "text": [
      "[1, 3, 5, 7, 9]\n"
     ]
    }
   ],
   "source": [
    "lst = [1, 3, 5, 7, 9]\n",
    "x = []\n",
    "\n",
    "for i in lst:\n",
    "\tx.append(i)\n",
    "\n",
    "print(x)"
   ]
  },
  {
   "cell_type": "markdown",
   "metadata": {},
   "source": [
    "# Problem #4: What is the return value of the function call mystery([1,2,3], [1,2,4])?"
   ]
  },
  {
   "cell_type": "code",
   "execution_count": 7,
   "metadata": {},
   "outputs": [
    {
     "data": {
      "text/plain": [
       "False"
      ]
     },
     "execution_count": 7,
     "metadata": {},
     "output_type": "execute_result"
    }
   ],
   "source": [
    "def mystery(list1, list2):\n",
    "    if len(list1) != len(list2):\n",
    "        return False\n",
    "    for i in range(len(list1)):\n",
    "        if list1[i] != list2[i]:\n",
    "            return False\n",
    "    return True\n",
    "\n",
    "mystery([1,2,3], [1,2,4])"
   ]
  },
  {
   "cell_type": "markdown",
   "metadata": {},
   "source": [
    "# Problem #5: Write a function called count_even_odd() that takes in a List and prints the number of odd and even numbers in a list."
   ]
  },
  {
   "cell_type": "code",
   "execution_count": 10,
   "metadata": {},
   "outputs": [
    {
     "name": "stdout",
     "output_type": "stream",
     "text": [
      "Number of even numbers in the list:  5\n",
      "Number of odd numbers in the list:  2\n",
      "Number of even numbers in the list:  0\n",
      "Number of odd numbers in the list:  1\n",
      "Number of even numbers in the list:  0\n",
      "Number of odd numbers in the list:  0\n"
     ]
    }
   ],
   "source": [
    "def count_even_odd(list_name):\n",
    "    #ADD CODE HERE\n",
    "    count_even = 0\n",
    "    count_odd = 0\n",
    "    for i in list_name:\n",
    "        if i % 2 == 0:\n",
    "            count_even += 1\n",
    "        elif i % 2 != 0:\n",
    "            count_odd += 1\n",
    "        else:\n",
    "            pass\n",
    "    print(\"Number of even numbers in the list: \", count_even)\n",
    "    print(\"Number of odd numbers in the list: \", count_odd)\n",
    "\n",
    "\n",
    "# Test your program below\n",
    "input_list = [16, 29, 60, 58, 46, 73, 94]\n",
    "input_list2 = [1]\n",
    "input_list3 = []\n",
    "count_even_odd(input_list)\n",
    "count_even_odd(input_list2)\n",
    "count_even_odd(input_list3)"
   ]
  },
  {
   "cell_type": "markdown",
   "metadata": {},
   "source": [
    "# Problem #6: Create a program that takes in a list and outputs the reverse the order of a elements in a list.\n",
    "\n",
    "Note: Do not use the Python’s built-in reverse() function."
   ]
  },
  {
   "cell_type": "code",
   "execution_count": 22,
   "metadata": {},
   "outputs": [
    {
     "name": "stdout",
     "output_type": "stream",
     "text": [
      "Input: ['blue', 'yellow', 'green', 'red']\n",
      "temp:  blue\n",
      "red\n",
      "temp2:  blue\n",
      "temp:  yellow\n",
      "green\n",
      "temp2:  yellow\n",
      "Output: ['red', 'green', 'yellow', 'blue']\n"
     ]
    }
   ],
   "source": [
    "# def reverse(list):\n",
    "#     empty = []\n",
    "#     for i in list:\n",
    "#         empty.append(i)\n",
    "\n",
    "def reverse(list):\n",
    "    half_length = int(len(list)/2)\n",
    "\n",
    "    for i in range(half_length):\n",
    "        temp = list[i]\n",
    "        print(\"temp: \", temp)\n",
    "        # reassign color 1 to color 2\n",
    "        list[i] = list[-1 - i]\n",
    "        print(list[i])\n",
    "        # reassign color 2 to color 1 using temp variable\n",
    "        list[-1 - i] = temp\n",
    "        print(\"temp2: \", list[-1 - i])\n",
    "        \n",
    "    return list\n",
    "\n",
    "list = [\"blue\", \"yellow\", \"green\", \"red\"]\n",
    "print(\"Input:\", list)\n",
    "print(\"Output:\", reverse(list))"
   ]
  },
  {
   "cell_type": "markdown",
   "metadata": {},
   "source": []
  }
 ],
 "metadata": {
  "kernelspec": {
   "display_name": "Python 3.9.7 ('sfds')",
   "language": "python",
   "name": "python3"
  },
  "language_info": {
   "codemirror_mode": {
    "name": "ipython",
    "version": 3
   },
   "file_extension": ".py",
   "mimetype": "text/x-python",
   "name": "python",
   "nbconvert_exporter": "python",
   "pygments_lexer": "ipython3",
   "version": "3.9.7"
  },
  "orig_nbformat": 4,
  "vscode": {
   "interpreter": {
    "hash": "a8387c85817131f62b92073afbf9c4320cbcdb4fc33a940d74c72b0cf27cea34"
   }
  }
 },
 "nbformat": 4,
 "nbformat_minor": 2
}
