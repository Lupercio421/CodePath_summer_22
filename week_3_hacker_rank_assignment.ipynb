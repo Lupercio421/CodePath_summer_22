{
 "cells": [
  {
   "cell_type": "markdown",
   "metadata": {},
   "source": [
    "# 1. Tracing Question\n",
    "What will the following method print?"
   ]
  },
  {
   "cell_type": "code",
   "execution_count": 2,
   "metadata": {},
   "outputs": [
    {
     "name": "stdout",
     "output_type": "stream",
     "text": [
      "3\n",
      "None\n"
     ]
    }
   ],
   "source": [
    "def mystery():\n",
    "    toPrint = 0\n",
    "    for i in range(3): # for loop with i = (0,1,2)\n",
    "        toPrint += i\n",
    "    \n",
    "    print(toPrint)\n",
    "\n",
    "print(mystery()) "
   ]
  },
  {
   "cell_type": "markdown",
   "metadata": {},
   "source": [
    "# 2. Python Basic: Lists\n",
    "\n",
    "What is the value of arr[3] if arr = [6,3,1,2]"
   ]
  },
  {
   "cell_type": "code",
   "execution_count": 3,
   "metadata": {},
   "outputs": [
    {
     "name": "stdout",
     "output_type": "stream",
     "text": [
      "2\n"
     ]
    }
   ],
   "source": [
    "arr = [6,3,1,2]\n",
    "\n",
    "print(arr[3])"
   ]
  },
  {
   "cell_type": "markdown",
   "metadata": {},
   "source": [
    "# 3. Tracing Question: Lists\n",
    "\n",
    "Consider the following code segment\n",
    "\n",
    "dog, cat, snake\n",
    "dog, cat, lizard\n",
    "dog, fish, cat, lizard\n",
    "dog, fish, cat"
   ]
  },
  {
   "cell_type": "code",
   "execution_count": 5,
   "metadata": {},
   "outputs": [
    {
     "name": "stdout",
     "output_type": "stream",
     "text": [
      "['dog', 'fish', 'cat']\n"
     ]
    }
   ],
   "source": [
    "animals = []\n",
    "animals.append(\"dog\")\n",
    "animals.append(\"cat\")\n",
    "animals.append(\"snake\") #dog, cat, snake\n",
    "animals[2] = \"lizard\" #dog, cat, lizard\n",
    "animals.insert(1, \"fish\") #dog, fish, cat, lizard\n",
    "del animals[3] #dog, fish, cat\n",
    "print(animals)"
   ]
  },
  {
   "cell_type": "markdown",
   "metadata": {},
   "source": [
    "# 4. Tracing Question: Loops & Lists\n",
    "\n",
    "What will be the output of the following code:"
   ]
  },
  {
   "cell_type": "code",
   "execution_count": 8,
   "metadata": {},
   "outputs": [
    {
     "ename": "TypeError",
     "evalue": "'list' object cannot be interpreted as an integer",
     "output_type": "error",
     "traceback": [
      "\u001b[1;31m---------------------------------------------------------------------------\u001b[0m",
      "\u001b[1;31mTypeError\u001b[0m                                 Traceback (most recent call last)",
      "\u001b[1;32m~\\AppData\\Local\\Temp/ipykernel_16724/3883507868.py\u001b[0m in \u001b[0;36m<module>\u001b[1;34m\u001b[0m\n\u001b[0;32m      1\u001b[0m \u001b[0mx\u001b[0m \u001b[1;33m=\u001b[0m \u001b[1;33m[\u001b[0m\u001b[1;34m\"a\"\u001b[0m\u001b[1;33m,\u001b[0m \u001b[1;34m\"b\"\u001b[0m\u001b[1;33m,\u001b[0m \u001b[1;34m\"c\"\u001b[0m\u001b[1;33m,\u001b[0m \u001b[1;34m\"d\"\u001b[0m\u001b[1;33m]\u001b[0m\u001b[1;33m\u001b[0m\u001b[1;33m\u001b[0m\u001b[0m\n\u001b[1;32m----> 2\u001b[1;33m \u001b[1;32mfor\u001b[0m \u001b[0mi\u001b[0m \u001b[1;32min\u001b[0m \u001b[0mrange\u001b[0m\u001b[1;33m(\u001b[0m\u001b[0mx\u001b[0m\u001b[1;33m)\u001b[0m\u001b[1;33m:\u001b[0m \u001b[1;31m# 'list' object cannot be interpreted as an integer\u001b[0m\u001b[1;33m\u001b[0m\u001b[1;33m\u001b[0m\u001b[0m\n\u001b[0m\u001b[0;32m      3\u001b[0m     \u001b[0mprint\u001b[0m\u001b[1;33m(\u001b[0m\u001b[0mi\u001b[0m\u001b[1;33m)\u001b[0m \u001b[1;31m#will print an error\u001b[0m\u001b[1;33m\u001b[0m\u001b[1;33m\u001b[0m\u001b[0m\n",
      "\u001b[1;31mTypeError\u001b[0m: 'list' object cannot be interpreted as an integer"
     ]
    }
   ],
   "source": [
    "x = [\"a\", \"b\", \"c\", \"d\"]\n",
    "for i in range(x): # 'list' object cannot be interpreted as an integer\n",
    "    print(i) #will print an error"
   ]
  },
  {
   "cell_type": "markdown",
   "metadata": {},
   "source": [
    "# 5. Tracing Question: Lists and Loops\n",
    "\n",
    "Consider the following code segment"
   ]
  },
  {
   "cell_type": "code",
   "execution_count": 11,
   "metadata": {},
   "outputs": [
    {
     "name": "stdout",
     "output_type": "stream",
     "text": [
      "14 \n",
      "12 \n",
      "19 \n",
      "17 \n",
      "13 \n",
      "4 \n",
      "2 \n",
      "9 \n",
      "7 \n",
      "3 \n"
     ]
    }
   ],
   "source": [
    "arr2 = [4,2,9,7,3]\n",
    "for k in arr2: #takes the actual integer in the list\n",
    "    k = k + 10 # and adds 10 to the integer in the list\n",
    "    print(k, \"\")\n",
    "for k in arr2: #takes the actual integer in the list\n",
    "    print(k, \"\") #and prints it"
   ]
  },
  {
   "cell_type": "markdown",
   "metadata": {},
   "source": [
    "# 6. Comparing Values\n",
    "\n",
    "Given a list of integers, num. And a max integer. Find the number of elements in the list that are less than or equal to max (<=)"
   ]
  },
  {
   "cell_type": "code",
   "execution_count": null,
   "metadata": {},
   "outputs": [],
   "source": [
    "# Complete the 'compare_num' function below.\n",
    "#\n",
    "# The function is expected to return an INTEGER.\n",
    "# The function accepts following parameters:\n",
    "#  1. INTEGER_ARRAY nums\n",
    "#  2. INTEGER max\n",
    "#\n",
    "\n",
    "def compare_num(nums, max):\n",
    "    # Write your code here\n",
    "    count = 0\n",
    "    for i in nums: #loop through each element in the list\n",
    "        if i <= max:  #compare it to max\n",
    "            count += 1 #increase the count\n",
    "        else:\n",
    "            pass\n",
    "    return(count)\n",
    "\n",
    "if __name__ == '__main__':\n",
    "    fptr = open(os.environ['OUTPUT_PATH'], 'w')\n",
    "\n",
    "    array_input = input().strip().replace(\" \", \"\")\n",
    "    array_input = array_input[1:-1].split(\",\")\n",
    "    nums = []\n",
    "\n",
    "    for i in array_input:\n",
    "        if i == \"\":\n",
    "            break\n",
    "        nums.append(int(i))\n",
    "\n",
    "    max = int(input().strip())\n",
    "\n",
    "    result = compare_num(nums, max)\n",
    "\n",
    "    fptr.write(str(result) + '\\n')\n",
    "\n",
    "    fptr.close()\n"
   ]
  },
  {
   "cell_type": "markdown",
   "metadata": {},
   "source": [
    "# 7. Plus One\n",
    "\n",
    "You are given a large integer represented as an integer array digits, where each digits[i] is the ith digit of the integer. The digits are ordered from most significant to least significant in left to right order. The larger integer does not contain any leading 0's \\\n",
    "\\\n",
    "Increment the large integer by one and return the resulting array of digits"
   ]
  },
  {
   "cell_type": "code",
   "execution_count": null,
   "metadata": {},
   "outputs": [],
   "source": [
    "# Complete the 'plus_one' function below.\n",
    "#\n",
    "# The function is expected to return an INTEGER_ARRAY.\n",
    "# The function accepts INTEGER_ARRAY digits as parameter.\n",
    "#\n",
    "\n",
    "def plus_one(digits):\n",
    "    # Write your code here\n",
    "    #First if statement should be geared toward 9 in position [-1]\n",
    "    if digits[-1] == 9:\n",
    "        digits.insert(-1,1) #insert 1 into the (-1) digit position, but it really is at the -2 position\n",
    "        #print(digits)\n",
    "        del digits[-1] #9 is still at the -1 position, but should be deleted \n",
    "        digits.append(0) #also add 0 to the end of the list\n",
    "    else:\n",
    "        digits[-1] += 1 #if the last digit is not 9, increase the digit by 1\n",
    "        \n",
    "    return(digits)\n",
    "if __name__ == '__main__':\n",
    "    fptr = open(os.environ['OUTPUT_PATH'], 'w')\n",
    "\n",
    "    array_input = input().strip().replace(\" \", \"\")\n",
    "    array_input = array_input[1:-1].split(\",\")\n",
    "    digits = []\n",
    "\n",
    "    for i in array_input:\n",
    "        if i == \"\":\n",
    "            break\n",
    "        digits.append(int(i))\n",
    "\n",
    "    result = plus_one(digits)\n",
    "\n",
    "    fptr.write('\\n'.join(map(str, result)))\n",
    "    fptr.write('\\n')\n",
    "\n",
    "    fptr.close()\n"
   ]
  },
  {
   "cell_type": "markdown",
   "metadata": {},
   "source": [
    "# 8. Challenge Question: Target Sum\n",
    "\n",
    "Given an array of integers $\\textit{nums}$ and an integer $\\textit{target}$, return indices of the two numbers such as they add up to $\\textit{target}$ \\\n",
    "You may assume that each input would have exactly one solution, and you may not use the same element twice.\n",
    "\\\n",
    "You should return the indices in increasing order (ascending order)"
   ]
  },
  {
   "cell_type": "code",
   "execution_count": null,
   "metadata": {},
   "outputs": [],
   "source": [
    "# Complete the 'target_sum' function below.\n",
    "#\n",
    "# The function is expected to return an INTEGER_ARRAY.\n",
    "# The function accepts following parameters:\n",
    "#  1. INTEGER_ARRAY nums\n",
    "#  2. INTEGER target\n",
    "#\n",
    "\n",
    "def target_sum(nums, target):\n",
    "    # Write your code here\n",
    "    list1 = [] #empty list to append the indices later on\n",
    "    for i in range(0,len(nums)):\n",
    "        for j in range(i+1, len(nums)):\n",
    "            if (nums[i] + nums[j] == target):\n",
    "                list1.append(i)\n",
    "                list1.append(j)\n",
    "        #print(i+1) \n",
    "        # if nums[i] + nums[i+1] == target:\n",
    "        #     list1.append(nums[i])\n",
    "        #     list1.append(nums[i+1])\n",
    "        else:\n",
    "            pass\n",
    "    return(list1)\n",
    "    \n",
    "\n",
    "if __name__ == '__main__':\n",
    "    fptr = open(os.environ['OUTPUT_PATH'], 'w')\n",
    "    array_input = input().strip().replace(\" \", \"\")\n",
    "    array_input = array_input[1:-1].split(\",\")\n",
    "    \n",
    "    nums = []\n",
    "    \n",
    "    for i in array_input:\n",
    "        if i == \"\":\n",
    "            break\n",
    "        nums.append(int(i))\n",
    "    \n",
    "    target = int(input().strip())\n",
    "\n",
    "    result = target_sum(nums, target)\n",
    "\n",
    "    fptr.write('\\n'.join(map(str, result)))\n",
    "    fptr.write('\\n')\n",
    "\n",
    "    fptr.close()\n"
   ]
  }
 ],
 "metadata": {
  "kernelspec": {
   "display_name": "Python 3.9.7 ('sfds')",
   "language": "python",
   "name": "python3"
  },
  "language_info": {
   "codemirror_mode": {
    "name": "ipython",
    "version": 3
   },
   "file_extension": ".py",
   "mimetype": "text/x-python",
   "name": "python",
   "nbconvert_exporter": "python",
   "pygments_lexer": "ipython3",
   "version": "3.9.7"
  },
  "orig_nbformat": 4,
  "vscode": {
   "interpreter": {
    "hash": "a8387c85817131f62b92073afbf9c4320cbcdb4fc33a940d74c72b0cf27cea34"
   }
  }
 },
 "nbformat": 4,
 "nbformat_minor": 2
}
