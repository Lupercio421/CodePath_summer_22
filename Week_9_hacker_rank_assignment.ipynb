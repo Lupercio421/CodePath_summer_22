{
 "cells": [
  {
   "cell_type": "code",
   "execution_count": null,
   "metadata": {},
   "outputs": [],
   "source": []
  },
  {
   "cell_type": "code",
   "execution_count": 5,
   "metadata": {},
   "outputs": [
    {
     "name": "stdout",
     "output_type": "stream",
     "text": [
      "1\n",
      "None\n"
     ]
    },
    {
     "ename": "KeyError",
     "evalue": "'c'",
     "output_type": "error",
     "traceback": [
      "\u001b[1;31m---------------------------------------------------------------------------\u001b[0m",
      "\u001b[1;31mKeyError\u001b[0m                                  Traceback (most recent call last)",
      "\u001b[1;32m~\\AppData\\Local\\Temp/ipykernel_30552/1631384753.py\u001b[0m in \u001b[0;36m<module>\u001b[1;34m\u001b[0m\n\u001b[0;32m      3\u001b[0m \u001b[0mprint\u001b[0m\u001b[1;33m(\u001b[0m\u001b[0md\u001b[0m\u001b[1;33m.\u001b[0m\u001b[0mget\u001b[0m\u001b[1;33m(\u001b[0m\u001b[1;34m'a'\u001b[0m\u001b[1;33m)\u001b[0m\u001b[1;33m)\u001b[0m\u001b[1;33m\u001b[0m\u001b[1;33m\u001b[0m\u001b[0m\n\u001b[0;32m      4\u001b[0m \u001b[0mprint\u001b[0m\u001b[1;33m(\u001b[0m\u001b[0md\u001b[0m\u001b[1;33m.\u001b[0m\u001b[0mget\u001b[0m\u001b[1;33m(\u001b[0m\u001b[1;34m'c'\u001b[0m\u001b[1;33m)\u001b[0m\u001b[1;33m)\u001b[0m\u001b[1;33m\u001b[0m\u001b[1;33m\u001b[0m\u001b[0m\n\u001b[1;32m----> 5\u001b[1;33m \u001b[0mprint\u001b[0m\u001b[1;33m(\u001b[0m\u001b[0md\u001b[0m\u001b[1;33m[\u001b[0m\u001b[1;34m'c'\u001b[0m\u001b[1;33m]\u001b[0m\u001b[1;33m)\u001b[0m\u001b[1;33m\u001b[0m\u001b[1;33m\u001b[0m\u001b[0m\n\u001b[0m",
      "\u001b[1;31mKeyError\u001b[0m: 'c'"
     ]
    }
   ],
   "source": [
    "d = {'a':1, 'b':2}\n",
    "\n",
    "print(d.get('a'))\n",
    "print(d.get('c'))\n",
    "print(d['c'])"
   ]
  },
  {
   "cell_type": "code",
   "execution_count": null,
   "metadata": {},
   "outputs": [],
   "source": [
    "def maximum_count(inventory):\n",
    "    # Write your code here\n",
    "    highest_item = 0\n",
    "    dict_keys = list(inventory.keys())\n",
    "    dict_values = list(inventory.values())\n",
    "    for item,count in inventory.items():\n",
    "        #print(item, count)\n",
    "        if count >= highest_item:\n",
    "            highest_item = count\n",
    "    val_index = dict_values.index(highest_item)\n",
    "    mykey = dict_keys[val_index]\n",
    "    return(str(mykey))\n",
    "    #print(inventory.index(highest_item))\n",
    "    #print()"
   ]
  },
  {
   "cell_type": "code",
   "execution_count": null,
   "metadata": {},
   "outputs": [],
   "source": [
    "#!/bin/python3\n",
    "\n",
    "import math\n",
    "import os\n",
    "import random\n",
    "import re\n",
    "import sys\n",
    "\n",
    "\n",
    "\n",
    "#\n",
    "# Complete the 'low_inventory' function below.\n",
    "#\n",
    "# The function is expected to return an STRING ARRAY.\n",
    "# The function accepts following parameters:\n",
    "#  1. DICTIONARY inventory\n",
    "#  2. INTEGER threshold\n",
    "#\n",
    "\n",
    "def low_inventory(inventory, threshold):\n",
    "    # Write your code here\n",
    "    empty_dict = []\n",
    "    # dict_keys = list(inventory.keys())\n",
    "    # dict_values = list(inventory.values())\n",
    "    for key,value in inventory.items():\n",
    "        if value <= threshold:\n",
    "            empty_dict.append(key)\n",
    "    return empty_dict\n",
    "        \n",
    "\n",
    "if __name__ == '__main__':\n",
    "    fptr = open(os.environ['OUTPUT_PATH'], 'w')\n",
    "\n",
    "    inventory = {}\n",
    "    array_input = input().strip().replace(\" \", \"\")\n",
    "    array_input = array_input[1:-1].split(\",\")\n",
    "\n",
    "    for i in array_input:\n",
    "        key,value = i.split(\":\")\n",
    "        key = key[1:-1]\n",
    "        value = int(value)\n",
    "        inventory[key] = value\n",
    "\n",
    "    threshold = int(input().strip())\n",
    "\n",
    "    result = low_inventory(inventory, threshold)\n",
    "\n",
    "    fptr.write(str(result) + '\\n')\n",
    "\n",
    "    fptr.close()\n"
   ]
  },
  {
   "cell_type": "code",
   "execution_count": 7,
   "metadata": {},
   "outputs": [
    {
     "name": "stdout",
     "output_type": "stream",
     "text": [
      "{'c': 3, 'b': 2, 'r': 1}\n",
      "c\n"
     ]
    }
   ],
   "source": [
    "def most_common_first_letter(word_list):\n",
    "    # Write your code here\n",
    "    temp_list = {}\n",
    "    \n",
    "    for word in word_list:\n",
    "        for letter in word[0]:\n",
    "            if letter not in temp_list:\n",
    "                temp_list[letter] = 1\n",
    "            else:\n",
    "                temp_list[letter] += 1\n",
    "    print(temp_list)\n",
    "                \n",
    "    for key, value in temp_list.items():\n",
    "        if value == max(temp_list.values()):\n",
    "            return(key)\n",
    "\n",
    "print(most_common_first_letter(['cat', 'bat', 'rat', 'bar', 'car', 'can']))"
   ]
  }
 ],
 "metadata": {
  "kernelspec": {
   "display_name": "Python 3.9.7 ('sfds')",
   "language": "python",
   "name": "python3"
  },
  "language_info": {
   "codemirror_mode": {
    "name": "ipython",
    "version": 3
   },
   "file_extension": ".py",
   "mimetype": "text/x-python",
   "name": "python",
   "nbconvert_exporter": "python",
   "pygments_lexer": "ipython3",
   "version": "3.9.7"
  },
  "orig_nbformat": 4,
  "vscode": {
   "interpreter": {
    "hash": "a8387c85817131f62b92073afbf9c4320cbcdb4fc33a940d74c72b0cf27cea34"
   }
  }
 },
 "nbformat": 4,
 "nbformat_minor": 2
}
