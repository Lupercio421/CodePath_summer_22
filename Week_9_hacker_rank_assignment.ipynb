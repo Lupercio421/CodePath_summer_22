{
 "cells": [
  {
   "cell_type": "markdown",
   "metadata": {},
   "source": [
    "# 1 Python Basics: Dictionaries \n",
    "All dictionaries can be reversed, switching the keys and the values"
   ]
  },
  {
   "cell_type": "markdown",
   "metadata": {},
   "source": [
    "Answer: False"
   ]
  },
  {
   "cell_type": "markdown",
   "metadata": {},
   "source": [
    "# 2: Debugging Question: Dictionaries \n",
    "Which of the following code snippets produce an error?\n"
   ]
  },
  {
   "cell_type": "code",
   "execution_count": null,
   "metadata": {},
   "outputs": [],
   "source": [
    "d = {'a': 1, 'b': 2} \n",
    "print(d['c'])\n"
   ]
  },
  {
   "cell_type": "code",
   "execution_count": null,
   "metadata": {},
   "outputs": [],
   "source": [
    "d = {'a':1, 'b':2}\n",
    "\n",
    "print(d.get('a'))\n",
    "print(d.get('c'))\n",
    "#print(d['c']) KeyError: 'c'"
   ]
  },
  {
   "cell_type": "markdown",
   "metadata": {},
   "source": [
    "# 3: What is the expected output of the following code? "
   ]
  },
  {
   "cell_type": "code",
   "execution_count": 1,
   "metadata": {},
   "outputs": [
    {
     "name": "stdout",
     "output_type": "stream",
     "text": [
      "a b b c\n",
      "b c c a\n",
      "c a a b\n"
     ]
    }
   ],
   "source": [
    "d = {'a': 'b', 'b': 'c', 'c': 'a'}\n",
    "for x, y in d.items():\n",
    "    print(x, y, d[x], d[y])\n",
    "\n",
    "# a b b c \n",
    "# b c c a \n",
    "# c a a b"
   ]
  },
  {
   "cell_type": "markdown",
   "metadata": {},
   "source": [
    "# 4: Python Basics: Lists vs Dictionaries\n",
    "Which of the following would be best solved with a Dictionary (as opposed to a List)?"
   ]
  },
  {
   "cell_type": "markdown",
   "metadata": {},
   "source": [
    "- Keep track of the books in a library and whether they are checked out or\n",
    "not. It should be easy to look up whether the library owns a book title and\n",
    "whether that book is currently checked out or in the library. \n",
    "- Keep track of the books I’ve purchased. I would like to read them in the\n",
    "order I purchased them, so it should be easy to determine which book is\n",
    "next. \n",
    "- Keep track of student allergies. It should be easy to look up by student\n",
    "name whether they have an allergy and what their allergies are.\n"
   ]
  },
  {
   "cell_type": "markdown",
   "metadata": {},
   "source": [
    "Keep track of student allergies. It should be easy to look up by student\n",
    "name whether they have an allergy and what their allergies are."
   ]
  },
  {
   "cell_type": "markdown",
   "metadata": {},
   "source": [
    "# 5: Maximum Count\n",
    "Write the function `maximum_count` which takes an `inventory` stored as a dictionary and returns the item name that has the highest count. If two items have the same count, return either item.\n"
   ]
  },
  {
   "cell_type": "code",
   "execution_count": null,
   "metadata": {},
   "outputs": [],
   "source": [
    "def maximum_count(inventory):\n",
    "    # Write your code here\n",
    "    highest_item = 0\n",
    "    dict_keys = list(inventory.keys())\n",
    "    dict_values = list(inventory.values())\n",
    "    for item,count in inventory.items():\n",
    "        #print(item, count)\n",
    "        if count >= highest_item:\n",
    "            highest_item = count\n",
    "    val_index = dict_values.index(highest_item)\n",
    "    mykey = dict_keys[val_index]\n",
    "    return(str(mykey))\n",
    "    #print(inventory.index(highest_item))\n",
    "    #print()"
   ]
  },
  {
   "cell_type": "markdown",
   "metadata": {},
   "source": [
    "# 6: Low Inventory\n",
    "Write the function `low_inventory` which takes an `inventory` stored as a dictionary and a\n",
    "`threshold` value and returns a new dictionary with the key-value pairs where the value is less than or equal to the threshold value.\n"
   ]
  },
  {
   "cell_type": "markdown",
   "metadata": {},
   "source": [
    "Input:\n",
    " inventory = {\"bananas\": 5, \"apples\": 3, \"oranges\": 10, \"bacon\": 1,\n",
    "\"sausages\": 3} \\\n",
    " threshold = 3 \\\n",
    "Output: ['apples','bacon','sausages']\n"
   ]
  },
  {
   "cell_type": "code",
   "execution_count": null,
   "metadata": {},
   "outputs": [],
   "source": [
    "#!/bin/python3\n",
    "\n",
    "import math\n",
    "import os\n",
    "import random\n",
    "import re\n",
    "import sys\n",
    "\n",
    "\n",
    "\n",
    "#\n",
    "# Complete the 'low_inventory' function below.\n",
    "#\n",
    "# The function is expected to return an STRING ARRAY.\n",
    "# The function accepts following parameters:\n",
    "#  1. DICTIONARY inventory\n",
    "#  2. INTEGER threshold\n",
    "#\n",
    "\n",
    "def low_inventory(inventory, threshold):\n",
    "    # Write your code here\n",
    "    empty_dict = []\n",
    "    # dict_keys = list(inventory.keys())\n",
    "    # dict_values = list(inventory.values())\n",
    "    for key,value in inventory.items():\n",
    "        if value <= threshold:\n",
    "            empty_dict.append(key)\n",
    "    return empty_dict\n",
    "        \n",
    "\n",
    "if __name__ == '__main__':\n",
    "    fptr = open(os.environ['OUTPUT_PATH'], 'w')\n",
    "\n",
    "    inventory = {}\n",
    "    array_input = input().strip().replace(\" \", \"\")\n",
    "    array_input = array_input[1:-1].split(\",\")\n",
    "\n",
    "    for i in array_input:\n",
    "        key,value = i.split(\":\")\n",
    "        key = key[1:-1]\n",
    "        value = int(value)\n",
    "        inventory[key] = value\n",
    "\n",
    "    threshold = int(input().strip())\n",
    "\n",
    "    result = low_inventory(inventory, threshold)\n",
    "\n",
    "    fptr.write(str(result) + '\\n')\n",
    "\n",
    "    fptr.close()\n"
   ]
  },
  {
   "cell_type": "markdown",
   "metadata": {},
   "source": [
    "# 7 Category Total\n",
    "Write the function `category_total` which gives the total number of items of a specific category. It takes the following as input:\n",
    " - inventory : a dictionary where each key is an item and the value is the count\n",
    " - categories : a dictionary where each key is a category and the value is a list of the items in that category\n",
    " - category : a category (one of the keys of the categories dictionary) \\\n",
    "If an item from the category list isn’t in the inventory, assume the count is 0.\n"
   ]
  },
  {
   "cell_type": "markdown",
   "metadata": {},
   "source": [
    "Input:\n",
    "inventory = {\"bananas\": 5, \"apples\": 3, \"oranges\": 10, \"bacon\": 1,\n",
    "\"sausages\": 3} \\\n",
    "categories = {\"meat\": [\"bacon\", \"sausages\", \"steaks\"], \\\n",
    " \"fruit\": [\"bananas\", \"apples\", \"oranges\", \"peaches\"]} \\\n",
    "category = \"fruit\" \\\n",
    "Output: 18 \n",
    "\n"
   ]
  },
  {
   "cell_type": "code",
   "execution_count": null,
   "metadata": {},
   "outputs": [],
   "source": [
    "#\n",
    "# Complete the 'category_total' function below.\n",
    "#\n",
    "# The function is expected to return an INTEGER.\n",
    "# The function accepts following parameters:\n",
    "# 1. DICTIONARY inventory\n",
    "# 2. DICTIONARY categories\n",
    "# 3. STRING category\n",
    "#\n",
    "def category_total(inventory, categories, category):\n",
    "    # Write your code here\n",
    "    inventory_keys = list(inventory.keys())\n",
    "    #inventory_values = list(inventory.values())\n",
    "    category_keys = list(categories.keys())\n",
    "    category_values = list(categories.values())\n",
    "    print(category_keys)\n",
    "    print(category_values)\n",
    "    final_dict = {}\n",
    "    inventory_count = 0\n",
    "    if \"bananas\" in category_values:\n",
    "        print(\"1\")\n",
    "    else:\n",
    "        print(\"0\")\n",
    "    for key,value in inventory.items():\n",
    "        #print(key)\n",
    "        if key in category_values:\n",
    "            inventory_count += value\n",
    "    return value\n",
    "\n"
   ]
  },
  {
   "cell_type": "markdown",
   "metadata": {},
   "source": [
    "# 8 Challenge: Most Common First Letter\n",
    "Write the function `most_common_first_letter` which takes a `word_list` and returns the letter that is the most common first letter. If there are multiple common first letters, return the letter that occurs first in the list.\n"
   ]
  },
  {
   "cell_type": "markdown",
   "metadata": {},
   "source": [
    "Input: ['cat', 'bat', 'rat', 'bar', 'car', 'can'] \\\n",
    "Output: 'c' \\\n",
    "Input: ['cat'] \\\n",
    "Output: 'c' \\\n",
    "Input: ['cat', 'bat'] \\\n",
    "Output: 'c'\n"
   ]
  },
  {
   "cell_type": "code",
   "execution_count": 7,
   "metadata": {},
   "outputs": [
    {
     "name": "stdout",
     "output_type": "stream",
     "text": [
      "{'c': 3, 'b': 2, 'r': 1}\n",
      "c\n"
     ]
    }
   ],
   "source": [
    "def most_common_first_letter(word_list):\n",
    "    # Write your code here\n",
    "    temp_list = {}\n",
    "    \n",
    "    for word in word_list:\n",
    "        for letter in word[0]:\n",
    "            if letter not in temp_list:\n",
    "                temp_list[letter] = 1\n",
    "            else:\n",
    "                temp_list[letter] += 1\n",
    "    print(temp_list)\n",
    "                \n",
    "    for key, value in temp_list.items():\n",
    "        if value == max(temp_list.values()):\n",
    "            return(key)\n",
    "\n",
    "print(most_common_first_letter(['cat', 'bat', 'rat', 'bar', 'car', 'can']))"
   ]
  }
 ],
 "metadata": {
  "kernelspec": {
   "display_name": "Python 3.9.7 ('sfds')",
   "language": "python",
   "name": "python3"
  },
  "language_info": {
   "codemirror_mode": {
    "name": "ipython",
    "version": 3
   },
   "file_extension": ".py",
   "mimetype": "text/x-python",
   "name": "python",
   "nbconvert_exporter": "python",
   "pygments_lexer": "ipython3",
   "version": "3.9.7"
  },
  "orig_nbformat": 4,
  "vscode": {
   "interpreter": {
    "hash": "a8387c85817131f62b92073afbf9c4320cbcdb4fc33a940d74c72b0cf27cea34"
   }
  }
 },
 "nbformat": 4,
 "nbformat_minor": 2
}
