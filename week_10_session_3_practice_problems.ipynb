{
 "cells": [
  {
   "cell_type": "markdown",
   "metadata": {},
   "source": [
    "# Problem #1\n",
    "What is the runtime of the following code snippet (where n is the size of the dictionary `mydict`)"
   ]
  },
  {
   "cell_type": "code",
   "execution_count": null,
   "metadata": {},
   "outputs": [],
   "source": [
    "# print(mydict.get('a'))\n",
    "# print(mydict.get('b'))\n",
    "# print(mydict.get('c'))"
   ]
  },
  {
   "cell_type": "markdown",
   "metadata": {},
   "source": [
    "Explanation: In dictionaries, the `get` method has a runtime of O(1). Since we have three lines of code here, each with a runtime of O(1) this means all together it has a runtime of O(1 + 1 + 1) which simplifies to O(1)."
   ]
  },
  {
   "cell_type": "markdown",
   "metadata": {},
   "source": [
    "# Problem #2\n",
    "What is the runtime of the following code snippet (where n is the size of the list `mylist`)"
   ]
  },
  {
   "cell_type": "code",
   "execution_count": null,
   "metadata": {},
   "outputs": [],
   "source": [
    "# mylist.append(1)\n",
    "# mylist.append(2)\n",
    "# mylist.append(3)"
   ]
  },
  {
   "cell_type": "markdown",
   "metadata": {},
   "source": [
    "Explanation: In lists, the append method has a runtime of O(1). Since we have three lines of code here, each with a runtime of O(1) this means all together it has a runtime of O(1 + 1 + 1) which simplifies to O(1)."
   ]
  },
  {
   "cell_type": "markdown",
   "metadata": {},
   "source": [
    "# Problem #3\n",
    "What is the runtime of the following code snippet (where n is the size of the list `mylist`)"
   ]
  },
  {
   "cell_type": "code",
   "execution_count": null,
   "metadata": {},
   "outputs": [],
   "source": [
    "# mylist.pop(0) #O(N)\n",
    "# mylist.pop(1) #O(N)\n",
    "# mylist.pop(2) #O(N)"
   ]
  },
  {
   "cell_type": "markdown",
   "metadata": {},
   "source": [
    "Explanation: In lists, to pop or remove an element at the $\\textbf{beginning}$ of the list requires a runtime of O(N). Since we have three lines of code here, each with a runtime of O(N) this means all together it has a runtime of O(N + N + N) -> O(3N) which simplifies to O(N)."
   ]
  },
  {
   "cell_type": "markdown",
   "metadata": {},
   "source": [
    "# Problem #4\n",
    "What is the runtime of the following code snippet (where n is the size of the dictionary `mydict`)"
   ]
  },
  {
   "cell_type": "code",
   "execution_count": null,
   "metadata": {},
   "outputs": [],
   "source": [
    "# for k in mydict: #O(N)\n",
    "#    print(k, mydict.get(k)) #O(1)"
   ]
  },
  {
   "cell_type": "markdown",
   "metadata": {},
   "source": [
    "Explanation: We have a for loop that will iterate over all of the keys in the dictionary. That means that the loop has a runtime of O(N). Inside the loop we call the `print` method on `mydict.get(k)`. The `get` method for dictionaries have a runtime of `O(1)`. Therefore overall, the code has an overall runtime of `O(N)`."
   ]
  },
  {
   "cell_type": "markdown",
   "metadata": {},
   "source": [
    "# Problem #5\n",
    "What is the runtime of the following code snippet (where n is the size of the dictionary `mydict`)"
   ]
  },
  {
   "cell_type": "code",
   "execution_count": null,
   "metadata": {},
   "outputs": [],
   "source": [
    "# for i in range(len(mylist)): #O(N)\n",
    "#    if i in mylist: #O(N)\n",
    "#       print(i) #O(1)"
   ]
  },
  {
   "cell_type": "markdown",
   "metadata": {},
   "source": [
    "Explanation: We have a for loop that will iterate over all of the elements in the list, running a total of N times. Inside the loop, the conditional checks if i in mylist. This particular check at the worst case has a runtime of O(N). Think about it, if i is the last element in the list, the code i in mylist will check every single element in the list before stopping once it is found. Finally the print method inside the if statement has a runtime of O(1)."
   ]
  },
  {
   "cell_type": "markdown",
   "metadata": {},
   "source": [
    "# Problem #6\n",
    "The replace_first_element function modifies the first element of `mylist` to be the given value.\n",
    "\n",
    "Determine the runtime of the following function? \\\n",
    "After determining the runtime, rewrite the function to be more efficient. \\\n",
    "Test that your solution has the same functionality as the original implementation. \\\n",
    "Determine the runtime of your efficient implementation?"
   ]
  },
  {
   "cell_type": "code",
   "execution_count": null,
   "metadata": {},
   "outputs": [],
   "source": [
    "# Original Implementation\n",
    "# Runtime: ?\n",
    "def replace_first_element(mylist, value):\n",
    "  '''\n",
    "  Modify the first element of mylist to be the given value.\n",
    "  '''\n",
    "  mylist.pop(0) #O(N)\n",
    "  mylist.insert(0, value) #O(N)\n",
    "\n",
    "  return mylist\n",
    "\n",
    "# Efficient Implementation\n",
    "# Runtime: ?\n",
    "def replace_first_element2(mylist, value):\n",
    "  mylist[0] = value #O(1)\n",
    "  return mylist\n",
    "\n",
    "# Test Cases\n",
    "mylist = [1, 2, 3, 4, 5]\n",
    "value = 5\n",
    "\n",
    "print(replace_first_element(mylist, value))\n",
    "print(replace_first_element2(mylist, value))"
   ]
  },
  {
   "cell_type": "markdown",
   "metadata": {},
   "source": [
    "# Problem #7\n",
    "The intersection returns a new list that has all the elements that are in both list1 and list2. Assume that the elements of list1 are unique and the elements of list2 are unique.\n",
    "\n",
    "Determine the runtime of the following function?\n",
    "After determining the runtime, rewrite the function to be more efficient.\n",
    "Test that your solution has the same functionality as the original implementation.\n",
    "Determine the runtime of your efficient implementation?"
   ]
  },
  {
   "cell_type": "code",
   "execution_count": null,
   "metadata": {},
   "outputs": [],
   "source": [
    "import time\n",
    "# Original Implementation\n",
    "# Runtime: ?\n",
    "def intersection(list1, list2):\n",
    "  start = time.time()\n",
    "  result = []\n",
    "  for item in list1: #O(N)\n",
    "    if item in list2: #O(N)\n",
    "      result.append(item)\n",
    "\n",
    "  end = time.time()\n",
    "  print(end-start)\n",
    "  return result\n",
    "\n",
    "#This function is O(N^2)\n",
    "\n",
    "# Efficient Implementation\n",
    "# Runtime: ?\n",
    "def intersection2(list1, list2):\n",
    "  start = time.time()\n",
    "  intersect_dict = {}\n",
    "  intersect_list = []\n",
    "  for item in list1:\n",
    "    #convert list2 to dictionary?\n",
    "    intersect_dict[item] = True\n",
    "  for item in list2:\n",
    "    if item in intersect_dict:\n",
    "      intersect_list.append(item) #O(1)\n",
    "  end = time.time()\n",
    "  print(end-start)\n",
    "  return intersect_list\n",
    "      \n",
    "      \n",
    "\n",
    "\n",
    "# Test Cases\n",
    "list1 = [1, 2, 3, 4, 5, 5,3, 6,7,4,8,10,12,11,13]\n",
    "list2 = [1, 3, 5, 7, 10, 11,13]\n",
    "\n",
    "print(intersection(list1, list2))\n",
    "print(\"---\")\n",
    "print(intersection2(list1, list2))"
   ]
  },
  {
   "cell_type": "markdown",
   "metadata": {},
   "source": [
    "# Problem #8\n",
    "The `same_length_words` function returns two words from `word_list` that are the same length or `None` if no such words exist.\n",
    "\n",
    "Determine the runtime of the following function \\\n",
    "After determining the runtime, rewrite the function to be more efficient. \\\n",
    "Test that your solution has the same functionality as the original implementation. \\\n",
    "Determine the runtime of your efficient implementation?"
   ]
  },
  {
   "cell_type": "code",
   "execution_count": null,
   "metadata": {},
   "outputs": [],
   "source": [
    "# Original Implementation\n",
    "# Runtime: O(N^2)\n",
    "def same_length_words(word_list):\n",
    "  for word in word_list: #O(N)\n",
    "    for word2 in word_list: #O(N)\n",
    "      if len(word) == len(word2) and word != word2: #O(1)\n",
    "        return word, word2\n",
    "  return None\n",
    "\n",
    "# Efficient Implementation\n",
    "# Runtime: O(N)\n",
    "def same_length_words2(word_list):\n",
    "  dict = {} #O(1)\n",
    "\n",
    "  for word in word_list: #O(N)\n",
    "    size = len(word) #O(1)\n",
    "    if size in dict: #O(1)\n",
    "      return dict[size], word\n",
    "    else:\n",
    "      dict[size] = word #O(1)\n",
    "\n",
    "  return None\n",
    "\n",
    "# Test Cases\n",
    "word_list = [\"cat\", \"animal\", \"moose\", \"dog\"]\n",
    "print(same_length_words(word_list))\n",
    "print(same_length_words2(word_list))\n",
    "\n",
    "print()\n",
    "\n",
    "word_list = [\"cat\", \"animal\", \"moose\"]\n",
    "print(same_length_words(word_list))\n",
    "print(same_length_words2(word_list))"
   ]
  }
 ],
 "metadata": {
  "language_info": {
   "name": "python"
  },
  "orig_nbformat": 4
 },
 "nbformat": 4,
 "nbformat_minor": 2
}
