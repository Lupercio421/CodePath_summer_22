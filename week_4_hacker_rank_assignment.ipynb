{
 "cells": [
  {
   "cell_type": "markdown",
   "metadata": {},
   "source": [
    "# 1. Python Basics: Range and Lists\n",
    "Which of the following expressions produces a list of numbers that represents all indices for the list nums using the range method?"
   ]
  },
  {
   "cell_type": "code",
   "execution_count": 3,
   "metadata": {},
   "outputs": [
    {
     "name": "stdout",
     "output_type": "stream",
     "text": [
      "range(0, 4)\n",
      "range(0, 4)\n"
     ]
    }
   ],
   "source": [
    "nums = [0,1,2,3]\n",
    "\n",
    "print(range(len(nums)))\n",
    "print(range(0, len(nums)))\n",
    "# print(range(1, len(nums-1)))"
   ]
  },
  {
   "cell_type": "markdown",
   "metadata": {},
   "source": [
    "# 2. Python Basics: Functions\n",
    "Consider the following code segment"
   ]
  },
  {
   "cell_type": "code",
   "execution_count": 4,
   "metadata": {},
   "outputs": [],
   "source": [
    "def cm_to_in(x):\n",
    "    return x/2.54"
   ]
  },
  {
   "cell_type": "markdown",
   "metadata": {},
   "source": [
    "Which of the following calls run without error? \\\n",
    "i. cm_to_in(5) \\ \n",
    "ii. cm_to_in(4.32) \\ \n",
    "iii. cm_to_in(\"20\")"
   ]
  },
  {
   "cell_type": "code",
   "execution_count": 6,
   "metadata": {},
   "outputs": [
    {
     "name": "stdout",
     "output_type": "stream",
     "text": [
      "1.968503937007874\n",
      "2.0944881889763782\n"
     ]
    }
   ],
   "source": [
    "print(cm_to_in(5))\n",
    "print(cm_to_in(5.32))"
   ]
  },
  {
   "cell_type": "markdown",
   "metadata": {},
   "source": [
    "# 3. Python Basics: Lists\n",
    "Which index is the last element in an array called nums? "
   ]
  },
  {
   "cell_type": "markdown",
   "metadata": {},
   "source": [
    "print(len(nums)-1) and [-1]"
   ]
  },
  {
   "cell_type": "markdown",
   "metadata": {},
   "source": [
    "# 3. Tracing Question: Enumerate & Lists\n",
    "What does the following code segment print?"
   ]
  },
  {
   "cell_type": "code",
   "execution_count": 8,
   "metadata": {},
   "outputs": [
    {
     "name": "stdout",
     "output_type": "stream",
     "text": [
      "3 4 "
     ]
    }
   ],
   "source": [
    "nums = [7,2,4,3,0,10]\n",
    "\n",
    "for ind,val in enumerate(nums):\n",
    "    if ind >= val: #true for {3:3} and {4:0}\n",
    "        print(ind, end = \" \") #3,4"
   ]
  },
  {
   "cell_type": "markdown",
   "metadata": {},
   "source": [
    "# 5. Tracing Problem: Loops\n",
    "What does the following code segment print?"
   ]
  },
  {
   "cell_type": "code",
   "execution_count": 9,
   "metadata": {},
   "outputs": [
    {
     "ename": "KeyboardInterrupt",
     "evalue": "",
     "output_type": "error",
     "traceback": [
      "\u001b[1;31m---------------------------------------------------------------------------\u001b[0m",
      "\u001b[1;31mKeyboardInterrupt\u001b[0m                         Traceback (most recent call last)",
      "\u001b[1;32m~\\AppData\\Local\\Temp/ipykernel_24900/1987642730.py\u001b[0m in \u001b[0;36m<module>\u001b[1;34m\u001b[0m\n\u001b[0;32m      2\u001b[0m \u001b[0mx\u001b[0m \u001b[1;33m=\u001b[0m \u001b[1;36m1\u001b[0m\u001b[1;33m\u001b[0m\u001b[1;33m\u001b[0m\u001b[0m\n\u001b[0;32m      3\u001b[0m \u001b[1;32mwhile\u001b[0m \u001b[0mcount\u001b[0m \u001b[1;33m<\u001b[0m \u001b[1;36m10\u001b[0m \u001b[1;32mor\u001b[0m \u001b[0mx\u001b[0m \u001b[1;33m<\u001b[0m \u001b[1;36m5\u001b[0m\u001b[1;33m:\u001b[0m\u001b[1;33m\u001b[0m\u001b[1;33m\u001b[0m\u001b[0m\n\u001b[1;32m----> 4\u001b[1;33m     \u001b[0mcount\u001b[0m \u001b[1;33m+=\u001b[0m \u001b[0mx\u001b[0m \u001b[1;31m#count will increment, but the x value is static/will always stay less than 5\u001b[0m\u001b[1;33m\u001b[0m\u001b[1;33m\u001b[0m\u001b[0m\n\u001b[0m\u001b[0;32m      5\u001b[0m \u001b[0mprint\u001b[0m\u001b[1;33m(\u001b[0m\u001b[0mcount\u001b[0m\u001b[1;33m)\u001b[0m \u001b[1;31m#\u001b[0m\u001b[1;33m\u001b[0m\u001b[1;33m\u001b[0m\u001b[0m\n",
      "\u001b[1;31mKeyboardInterrupt\u001b[0m: "
     ]
    }
   ],
   "source": [
    "count = 0\n",
    "x = 1\n",
    "while count < 10 or x < 5:\n",
    "    count += x #count will increment, but the x value is static/will always stay less than 5\n",
    "print(count) #error will print, this is an infinite loop"
   ]
  },
  {
   "cell_type": "markdown",
   "metadata": {},
   "source": [
    "# 6. Standard to military\n",
    "Write a function `standard_to_military()` that takes three parameters `hours, mins` and time_of_day that returns the hours and minutes converted from 12-hour format to 24-hour format"
   ]
  },
  {
   "cell_type": "code",
   "execution_count": 18,
   "metadata": {},
   "outputs": [],
   "source": [
    "# The function is expected to return an INTEGER.\n",
    "# The function accepts following parameters:\n",
    "#  1. INTEGER hours\n",
    "#  2. STRING time_of_day\n",
    "#\n",
    "\n",
    "def standard_to_military(hours, time_of_day):\n",
    "    # Write your code here\n",
    "    if time_of_day == \"AM\" and hours == 12:\n",
    "        return(0)\n",
    "    elif time_of_day == \"PM\" and hours == 12:\n",
    "        return(12)\n",
    "    elif time_of_day == \"AM\" and hours in range(0,13):\n",
    "        return(hours)\n",
    "    elif time_of_day == \"PM\" and hours in range(0,13):\n",
    "        return(hours+12)\n",
    "    else:\n",
    "        pass\n",
    "\n",
    "# if __name__ == '__main__':\n",
    "#     fptr = open(os.environ['OUTPUT_PATH'], 'w')\n",
    "\n",
    "#     hours = int(input().strip())\n",
    "\n",
    "#     time_of_day = input()\n",
    "\n",
    "#     result = standard_to_military(hours, time_of_day)\n",
    "\n",
    "#     fptr.write(str(result) + '\\n')\n",
    "\n",
    "#     fptr.close()"
   ]
  },
  {
   "cell_type": "markdown",
   "metadata": {},
   "source": [
    "# 7. Is Palindrome\n",
    "\n",
    "A palindrome is a sequence that reads the same backward as forward. Write a function `is_palindrome()` that takes an integer list `num_list` as a parameter and outputs either `True` or `False` if it is a palindrome"
   ]
  },
  {
   "cell_type": "code",
   "execution_count": null,
   "metadata": {},
   "outputs": [],
   "source": [
    "#!/bin/python3\n",
    "\n",
    "import math\n",
    "import os\n",
    "import random\n",
    "import re\n",
    "import sys\n",
    "\n",
    "\n",
    "2\n",
    "#\n",
    "# Complete the 'is_palindrome' function below.\n",
    "#\n",
    "# The function is expected to return a BOOLEAN.\n",
    "# The function accepts INTEGER_ARRAY num_list as parameter.\n",
    "#\n",
    "\n",
    "def is_palindrome(num_list):\n",
    "    # Write your code here\n",
    "    # Read up on how this could be done using a Deque\n",
    "    if num_list == num_list[::-1]: #use the list slicing method\n",
    "        return(True)\n",
    "    else:\n",
    "        return (False)\n",
    "\n",
    "if __name__ == '__main__':\n",
    "    fptr = open(os.environ['OUTPUT_PATH'], 'w')\n",
    "    array_input = input().strip().replace(\" \", \"\")\n",
    "    array_input = array_input[1:-1].split(\",\")\n",
    "    num_list = []\n",
    "\t\n",
    "    for i in array_input:\n",
    "        if i == \"\":\n",
    "            break\n",
    "        num_list.append(int(i))\n",
    "\n",
    "    result = is_palindrome(num_list)\n",
    "\n",
    "    fptr.write(str(int(result)) + '\\n')\n",
    "\n",
    "    fptr.close()"
   ]
  },
  {
   "cell_type": "markdown",
   "metadata": {},
   "source": [
    "# 8. Rotate Right\n",
    "\n",
    "Write a function `rotate_right()` that takes an integer list `num_list` and returns the list with its elements rotated to the right. A list is said to be right rotated if all the elements of the array moved to its right by one position"
   ]
  },
  {
   "cell_type": "code",
   "execution_count": null,
   "metadata": {},
   "outputs": [],
   "source": [
    "#!/bin/python3\n",
    "\n",
    "import math\n",
    "import os\n",
    "import random\n",
    "import re\n",
    "import sys\n",
    "\n",
    "\n",
    "\n",
    "#\n",
    "# Complete the 'rotate_right' function below.\n",
    "#\n",
    "# The function is expected to return an INTEGER_ARRAY.\n",
    "# The function accepts INTEGER_ARRAY num_list as parameter.\n",
    "#\n",
    "\n",
    "def rotate_right(num_list):\n",
    "    # Write your code here\n",
    "    ret_list = []\n",
    "    for i in range(len(num_list)):\n",
    "        if (i+1) < len(num_list):\n",
    "            ret_list.append(num_list[i-1])\n",
    "        else:\n",
    "            ret_list.append(num_list[i-1-len(num_list)])\n",
    "    return(ret_list)\n",
    "\n",
    "if __name__ == '__main__':\n",
    "    fptr = open(os.environ['OUTPUT_PATH'], 'w')\n",
    "    \n",
    "    array_input = input().strip().replace(\" \", \"\")\n",
    "    array_input = array_input[1:-1].split(\",\")\n",
    "    num_list = []\n",
    "    \n",
    "    for i in array_input:\n",
    "        if i == \"\":\n",
    "            break\n",
    "        num_list.append(int(i))\n",
    "\n",
    "    result = rotate_right(num_list)\n",
    "\n",
    "    fptr.write('\\n'.join(map(str, result)))\n",
    "    fptr.write('\\n')\n",
    "\n",
    "    fptr.close()\n"
   ]
  },
  {
   "cell_type": "markdown",
   "metadata": {},
   "source": [
    "# 9. Bonus: Rotate Elements\n",
    "Write a function `rotate_right()` that takes an integer list `num_list` and an integer `k`. The function should return the list with its elements rotated to the right `k` number of times."
   ]
  },
  {
   "cell_type": "code",
   "execution_count": null,
   "metadata": {},
   "outputs": [],
   "source": [
    "#!/bin/python3\n",
    "\n",
    "import math\n",
    "import os\n",
    "import random\n",
    "import re\n",
    "import sys\n",
    "\n",
    "\n",
    "\n",
    "#\n",
    "# Complete the 'rotate_elements' function below.\n",
    "#\n",
    "# The function is expected to return an INTEGER_ARRAY.\n",
    "# The function accepts following parameters:\n",
    "#  1. INTEGER_ARRAY num_list\n",
    "#  2. INTEGER k\n",
    "#\n",
    "\n",
    "def rotate_right(num_list,k):\n",
    "    # Write your code here\n",
    "    ret_list = []\n",
    "    for i in range(len(num_list)):\n",
    "        if (i+k) < len(num_list):\n",
    "            ret_list.append(num_list[i-k])\n",
    "        else:\n",
    "            ret_list.append(num_list[i-k-len(num_list)])\n",
    "    return(ret_list)\n",
    "\n",
    "\n",
    "if __name__ == '__main__':\n",
    "    fptr = open(os.environ['OUTPUT_PATH'], 'w')\n",
    "    \n",
    "    array_input = input().strip().replace(\" \", \"\")\n",
    "    array_input = array_input[1:-1].split(\",\")\n",
    "    num_list = []\n",
    "    \n",
    "    for i in array_input:\n",
    "        if i == \"\":\n",
    "            break\n",
    "        num_list.append(int(i))\n",
    "    \n",
    "    k = int(input().strip())\n",
    "    \n",
    "    result = rotate_elements(num_list, k)\n",
    "\n",
    "    fptr.write('\\n'.join(map(str, result)))\n",
    "    fptr.write('\\n')\n",
    "\n",
    "    fptr.close()\n"
   ]
  }
 ],
 "metadata": {
  "kernelspec": {
   "display_name": "Python 3.9.7 ('sfds')",
   "language": "python",
   "name": "python3"
  },
  "language_info": {
   "codemirror_mode": {
    "name": "ipython",
    "version": 3
   },
   "file_extension": ".py",
   "mimetype": "text/x-python",
   "name": "python",
   "nbconvert_exporter": "python",
   "pygments_lexer": "ipython3",
   "version": "3.9.7"
  },
  "orig_nbformat": 4,
  "vscode": {
   "interpreter": {
    "hash": "a8387c85817131f62b92073afbf9c4320cbcdb4fc33a940d74c72b0cf27cea34"
   }
  }
 },
 "nbformat": 4,
 "nbformat_minor": 2
}
