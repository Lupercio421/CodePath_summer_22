{
 "cells": [
  {
   "cell_type": "markdown",
   "metadata": {},
   "source": [
    "# Create a program that repeatedly asks a user for a song title and adds it to a list\n"
   ]
  },
  {
   "cell_type": "code",
   "execution_count": null,
   "metadata": {},
   "outputs": [],
   "source": [
    "# Get the user input\n",
    "\n",
    "# Add song into a list\n",
    "# Print that list\n",
    "\n",
    "songs = []\n",
    "print(\"When you are done adding songs, type 'Stop'\")\n",
    "while True:\n",
    "  song = input(\"Enter a song title: \")\n",
    "  if song == 'STOP':\n",
    "    break\n",
    "  songs.append(song)\n",
    "  print(songs)\n"
   ]
  },
  {
   "cell_type": "markdown",
   "metadata": {},
   "source": [
    "# Activity | Song Request Manager"
   ]
  },
  {
   "cell_type": "code",
   "execution_count": null,
   "metadata": {},
   "outputs": [],
   "source": [
    "\n",
    "print(\"Welcome to the DJ's Pythonic Song Request Manager!\",\"Enter the song title to make a song request.\", \"To exit, enter Quit.\")\n",
    "\n",
    "songs = []\n",
    "i = 0\n",
    "while True:\n",
    "  song = input(\"Enter a song title: \")\n",
    "  if song == \"Quit\":\n",
    "    print(\"Thank you for your requests. Enjoy the show!\")\n",
    "    break\n",
    "  else:\n",
    "    songs.append(song)\n",
    "    i += 1\n",
    "    print(\"It is song number\", i, \"on the list!\")\n",
    "    remove = input(\"Would you like to remove a song? [Y/N]: \")\n",
    "    if remove == \"Y\":\n",
    "      remove_2 = input(\"Which song would you like to remove?: \")\n",
    "      songs.remove(remove_2)\n",
    "      i -= 1\n",
    "    else:\n",
    "      pass\n",
    "  print(songs)"
   ]
  }
 ],
 "metadata": {
  "kernelspec": {
   "display_name": "Python 3.9.7 ('sfds')",
   "language": "python",
   "name": "python3"
  },
  "language_info": {
   "codemirror_mode": {
    "name": "ipython",
    "version": 3
   },
   "file_extension": ".py",
   "mimetype": "text/x-python",
   "name": "python",
   "nbconvert_exporter": "python",
   "pygments_lexer": "ipython3",
   "version": "3.9.7"
  },
  "orig_nbformat": 4,
  "vscode": {
   "interpreter": {
    "hash": "a8387c85817131f62b92073afbf9c4320cbcdb4fc33a940d74c72b0cf27cea34"
   }
  }
 },
 "nbformat": 4,
 "nbformat_minor": 2
}
