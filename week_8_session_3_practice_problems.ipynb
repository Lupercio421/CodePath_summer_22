{
 "cells": [
  {
   "cell_type": "code",
   "execution_count": 3,
   "metadata": {},
   "outputs": [
    {
     "name": "stdout",
     "output_type": "stream",
     "text": [
      "[[5, 3, 4, 5, 3, 4], [5, 5, 4, 5, 5, 4], [4, 5, 4, 4, 5, 4]]\n"
     ]
    }
   ],
   "source": [
    "lst = [[5,3,4],[5,5,4],[4,5,4]]\n",
    "\n",
    "for j in range (len(lst[0])):\n",
    "    for i in range(len(lst)):\n",
    "        lst[i].append(lst[i][j])\n",
    "        lst[i].pop\n",
    "        #print(lst[i])\n",
    "\n",
    "print(lst)"
   ]
  },
  {
   "cell_type": "code",
   "execution_count": 6,
   "metadata": {},
   "outputs": [
    {
     "name": "stdout",
     "output_type": "stream",
     "text": [
      "eggs\n",
      "e\n",
      "1\n",
      "g\n",
      "1\n",
      "g\n",
      "1\n",
      "s\n",
      "1\n",
      "milk\n",
      "m\n",
      "1\n",
      "i\n",
      "2\n",
      "l\n",
      "2\n",
      "k\n",
      "2\n",
      "kale\n",
      "k\n",
      "2\n",
      "a\n",
      "3\n",
      "l\n",
      "3\n",
      "e\n",
      "4\n",
      "4\n"
     ]
    }
   ],
   "source": [
    "lst = [\"eggs\", \"milk\", \"kale\"]\n",
    "vowel = \"aeiou\"\n",
    "c = 0\n",
    "\n",
    "for row in lst:\n",
    "    print(row)\n",
    "    for char in row:\n",
    "        print(char)\n",
    "        if char in vowel:\n",
    "            c += 1\n",
    "        print(c)\n",
    "print(c)"
   ]
  },
  {
   "cell_type": "markdown",
   "metadata": {},
   "source": [
    "# Problem #1\n",
    "What is returned after running the following code snippet?"
   ]
  },
  {
   "cell_type": "code",
   "execution_count": 1,
   "metadata": {},
   "outputs": [
    {
     "name": "stdout",
     "output_type": "stream",
     "text": [
      "escape\n",
      "estimate\n"
     ]
    }
   ],
   "source": [
    "words = [\"apples\", \"apes\", \"bikes\", \"escape\", \"estimate\"]\n",
    "for word in words:\n",
    "    if word[:2] == \"es\": #escape and estimate meet this condition\n",
    "        print(word)"
   ]
  },
  {
   "cell_type": "markdown",
   "metadata": {},
   "source": [
    "# Problem #2\n",
    "What is the return value of the function call mystery([[1, 2, 3], [7, 8, 9], [4, 5, 6]], 0)?"
   ]
  },
  {
   "cell_type": "code",
   "execution_count": 2,
   "metadata": {},
   "outputs": [
    {
     "data": {
      "text/plain": [
       "4.0"
      ]
     },
     "execution_count": 2,
     "metadata": {},
     "output_type": "execute_result"
    }
   ],
   "source": [
    "def mystery(lst, j):\n",
    "  s = 0\n",
    "  for i in range(len(lst)):\n",
    "    s += lst[i][j] #s = 1+7+4\n",
    "  return s / len(lst)\n",
    "\n",
    "mystery([[1, 2, 3], [7, 8, 9], [4, 5, 6]], 0) #should return 12/4 = 4.0"
   ]
  },
  {
   "cell_type": "markdown",
   "metadata": {},
   "source": [
    "# Problem #3\n",
    "What is the return value of the function call zeros([[2, 0, 0], [1, 0, 2], [0, 0, 0], [4, 0, 6]], 2)"
   ]
  },
  {
   "cell_type": "code",
   "execution_count": 4,
   "metadata": {},
   "outputs": [
    {
     "data": {
      "text/plain": [
       "True"
      ]
     },
     "execution_count": 4,
     "metadata": {},
     "output_type": "execute_result"
    }
   ],
   "source": [
    "def zeros(mylist, i):\n",
    "    for c in range(len(mylist[i])):\n",
    "        if mylist[i][c] != 0:\n",
    "            return False\n",
    "    return True\n",
    "\n",
    "zeros([[2, 0, 0], [1, 0, 2], [0, 0, 0], [4, 0, 6]], 2)"
   ]
  },
  {
   "cell_type": "markdown",
   "metadata": {},
   "source": [
    "# Problem #4\n",
    "Write a function `remove_members` that takes in two inputs, `member_list`, a two-dimensional list, and `year`, an integer data type. The function returns an updated `member_list` that contains only students who have graduated and are in good standing.\n",
    "\n",
    "`member_list` is a two-dimensional list where each item in the list contains 3 elements:\n",
    "\n",
    "- `str` type: student name\n",
    "- `int` type: graduation year\n",
    "A student is considered graduated if their graduation year is equal to or less than year.\n",
    "- `bool` type: `True` if the student is in good standing and False if the student is not in good standing."
   ]
  },
  {
   "cell_type": "code",
   "execution_count": 8,
   "metadata": {},
   "outputs": [
    {
     "name": "stdout",
     "output_type": "stream",
     "text": [
      "Input \n",
      "member_list =  [['Jane Smith', 2019, False], ['Steve Fox', 2018, True], ['Michael Xin', 2017, False], ['Maria Garcia', 2020, True]] \n",
      "year =  2018\n",
      "Output:  ['Steve Fox', 2018, True]\n",
      "\n",
      "Input \n",
      "member_list =  [['Jane Smith', 2019, False], ['Steve Fox', 2018, True], ['Michael Xin', 2017, False], ['Maria Garcia', 2020, True]] \n",
      "year =  2020\n",
      "Output:  ['Steve Fox', 2018, True]\n",
      "\n",
      "Input \n",
      "member_list =  [] \n",
      "year =  2022\n",
      "Output:  None\n"
     ]
    }
   ],
   "source": [
    "'''\n",
    "Write a function `remove_members` that returns an updated `member_list` that contains only students who have graduated and are in good standing.\n",
    "'''\n",
    "def remove_members(member_list, year):\n",
    "  for list in member_list:\n",
    "    if list[1] <= year and list[2] == True:\n",
    "      return list\n",
    "    else:\n",
    "      pass\n",
    "      \n",
    "\n",
    "# Test Cases\n",
    "member_list = [[\"Jane Smith\", 2019, False],\n",
    "              [\"Steve Fox\", 2018, True ],\n",
    "              [\"Michael Xin\", 2017, False],\n",
    "              [\"Maria Garcia\", 2020, True]]\n",
    "\n",
    "year = 2018\n",
    "\n",
    "print(\"Input \\nmember_list = \", member_list, \"\\nyear = \", year)\n",
    "print(\"Output: \", remove_members(member_list, year))\n",
    "\n",
    "member_list = [[\"Jane Smith\", 2019, False],\n",
    "              [\"Steve Fox\", 2018, True ],\n",
    "              [\"Michael Xin\", 2017, False],\n",
    "              [\"Maria Garcia\", 2020, True]]\n",
    "\n",
    "year = 2020\n",
    "\n",
    "print(\"\\nInput \\nmember_list = \", member_list, \"\\nyear = \", year)\n",
    "print(\"Output: \", remove_members(member_list, year))\n",
    "\n",
    "member_list = []\n",
    "year = 2022\n",
    "\n",
    "print(\"\\nInput \\nmember_list = \", member_list, \"\\nyear = \", year)\n",
    "print(\"Output: \", remove_members(member_list, year))"
   ]
  },
  {
   "cell_type": "markdown",
   "metadata": {},
   "source": [
    "# Problem #5\n",
    "Write a function `max_difference` that takes in an integer list and returns the maximum difference between the elements in the list such that the element values are increasing.\n",
    "\n",
    "Where `nums[i] < nums[j]` and `i < j`."
   ]
  },
  {
   "cell_type": "code",
   "execution_count": null,
   "metadata": {},
   "outputs": [],
   "source": []
  },
  {
   "cell_type": "markdown",
   "metadata": {},
   "source": [
    "# Problem #6\n",
    "Write a function `reverse_columns` that takes in an 2D list `matrix` and reverse the order of the columns."
   ]
  },
  {
   "cell_type": "code",
   "execution_count": 24,
   "metadata": {},
   "outputs": [
    {
     "name": "stdout",
     "output_type": "stream",
     "text": [
      "Input \n",
      " [[0, 1, 2], [3, 4, 5], [6, 7, 8]]\n",
      "[2, 1, 0]\n",
      "None\n",
      "[5, 4, 3]\n",
      "None\n",
      "[8, 7, 6]\n",
      "None\n",
      "Output \n",
      " None\n",
      "\n",
      "Input \n",
      " [[0, 1, 1, 1, 2], [3, 4, 7, -1, 2], [6, 6, 8, 5, 4]]\n",
      "[2, 1, 1, 1, 0]\n",
      "None\n",
      "[2, -1, 7, 4, 3]\n",
      "None\n",
      "[4, 5, 8, 6, 6]\n",
      "None\n",
      "Output \n",
      " None\n"
     ]
    }
   ],
   "source": [
    "def reverse_columns(matrix):\n",
    "  for list in matrix:\n",
    "    #print(type(list))\n",
    "    #list[i] == list[i][::-1]\n",
    "    print(list[::-1])\n",
    "    print(list.reverse())\n",
    "\n",
    "# def reverse_columns(matrix):\n",
    "#   for i in range(len()) in matrix:\n",
    "#     print(type(list))\n",
    "#     #list[i] == list[i][::-1]\n",
    "#     #print(list)\n",
    "#     print(list.reverse())\n",
    "\n",
    "# def reverse_columns(matrix):\n",
    "#   for indx,list in enumerate(matrix):# this get\n",
    "#     #for i in range(len(matrix)):\n",
    "#     print(list.reverse())\n",
    "\n",
    "# Test Cases\n",
    "matrix = [[0, 1, 2],\n",
    "         [3, 4, 5],\n",
    "         [6, 7, 8]]\n",
    "\n",
    "print(\"Input \\n\", matrix)\n",
    "print(\"Output \\n\", reverse_columns(matrix))\n",
    "\n",
    "matrix = [[0, 1, 1, 1, 2],\n",
    "         [3, 4, 7, -1, 2],\n",
    "         [6, 6, 8, 5, 4]]\n",
    "\n",
    "print(\"\\nInput \\n\", matrix)\n",
    "print(\"Output \\n\", reverse_columns(matrix))"
   ]
  },
  {
   "cell_type": "code",
   "execution_count": null,
   "metadata": {},
   "outputs": [],
   "source": []
  }
 ],
 "metadata": {
  "kernelspec": {
   "display_name": "Python 3.9.7 ('sfds')",
   "language": "python",
   "name": "python3"
  },
  "language_info": {
   "codemirror_mode": {
    "name": "ipython",
    "version": 3
   },
   "file_extension": ".py",
   "mimetype": "text/x-python",
   "name": "python",
   "nbconvert_exporter": "python",
   "pygments_lexer": "ipython3",
   "version": "3.9.7"
  },
  "orig_nbformat": 4,
  "vscode": {
   "interpreter": {
    "hash": "a8387c85817131f62b92073afbf9c4320cbcdb4fc33a940d74c72b0cf27cea34"
   }
  }
 },
 "nbformat": 4,
 "nbformat_minor": 2
}
