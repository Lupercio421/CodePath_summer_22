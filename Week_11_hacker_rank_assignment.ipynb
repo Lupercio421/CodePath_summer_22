{
 "cells": [
  {
   "cell_type": "markdown",
   "metadata": {},
   "source": [
    "# 1: Data Structures\n",
    "If I had 5 strings, each representing an email address that I intended to send emails to, what data structure would be the best way to store those strings?\n"
   ]
  },
  {
   "cell_type": "markdown",
   "metadata": {},
   "source": [
    "Answer: as an array of strings"
   ]
  },
  {
   "cell_type": "markdown",
   "metadata": {},
   "source": [
    "# 2: Age Validation\n",
    "If the age passed to the Python function below is 18, what will the function return?"
   ]
  },
  {
   "cell_type": "code",
   "execution_count": 1,
   "metadata": {},
   "outputs": [
    {
     "name": "stdout",
     "output_type": "stream",
     "text": [
      "Your data is protected in the UK by article 8 of GDPR and in California through CCPA.\n"
     ]
    }
   ],
   "source": [
    "def data_protection_notice(age):\n",
    "    if age < 13:\n",
    "        return \"Go ask a parent's permission to sign up.\"\n",
    "    elif age < 18:\n",
    "        return \"Your data is protected by COPPA, click here to view the COPPA notice.\"\n",
    "    elif age < 21:\n",
    "        return \"Your data is protected in the UK by article 8 of GDPR and in California through CCPA.\"\n",
    "    else:\n",
    "        return \"Your data is protected in the UK by GDPR and in California through CCPA.\"\n",
    "\n",
    "\n",
    "print(data_protection_notice(18))   \n"
   ]
  },
  {
   "cell_type": "markdown",
   "metadata": {},
   "source": [
    "# 3: Code Tracing 1\n",
    "We want to write a function that returns 2 times the sum of all numbers in an array.\n",
    "For example, given [1, 2, 3, 4], our function should return 20, as (1 + 2 + 3 + 4) * 2 = 20."
   ]
  },
  {
   "cell_type": "markdown",
   "metadata": {},
   "source": [
    "Java:\n",
    "int doubleSum (int[] nums) {\n",
    "    int currentSum = 0;\n",
    "    for (int i = 0; i < nums.length; i++) {\n",
    "        currentSum += 2 * nums[i];\n",
    "    }\n",
    "    return currentSum;\n",
    "}\n"
   ]
  },
  {
   "cell_type": "markdown",
   "metadata": {},
   "source": [
    "Given the array [4, 2, 10, 5, 8, 12], what happens to our `currentSum` variable when `i = 3`?"
   ]
  },
  {
   "cell_type": "code",
   "execution_count": null,
   "metadata": {},
   "outputs": [],
   "source": [
    "def double_sum(nums):\n",
    "    current_sum = 0\n",
    "    for i in range(0, len(nums)):\n",
    "        current_sum += 2 * nums[i]\n",
    "    return current_sum"
   ]
  },
  {
   "cell_type": "markdown",
   "metadata": {},
   "source": [
    "# 4 What Will Print - 1\n",
    "Take the following code snippet.\n",
    "Which of the following will NOT print?\n"
   ]
  },
  {
   "cell_type": "code",
   "execution_count": 5,
   "metadata": {},
   "outputs": [
    {
     "name": "stdout",
     "output_type": "stream",
     "text": [
      "a,b:  10 8\n",
      "9 7\n",
      "a,b:  8 7\n",
      "7 6\n",
      "a,b:  6 6\n",
      "5 5\n",
      "a,b:  4 5\n",
      "3 4\n"
     ]
    }
   ],
   "source": [
    "a = 12\n",
    "b = 8\n",
    "while a > b:\n",
    "    a -= 2\n",
    "    print(\"a,b: \",a, b)\n",
    "    b -= 1\n",
    "    print(a - 1, b)"
   ]
  },
  {
   "cell_type": "markdown",
   "metadata": {},
   "source": [
    "# Time Complexity\n",
    "What is the Big-O complexity of the following Python function, which takes in an array (n) and returns a count of the number of positive numbers in it (see implementation below)?"
   ]
  },
  {
   "cell_type": "code",
   "execution_count": null,
   "metadata": {},
   "outputs": [],
   "source": [
    "def count_the_positives(n):\n",
    "    positives = 0\n",
    "    for i in n: #O(n)\n",
    "        if i > 0: #O(1)\n",
    "            positives +=1\n",
    "    return positives\n"
   ]
  },
  {
   "cell_type": "markdown",
   "metadata": {},
   "source": [
    "# 6: 2D Arrays\n",
    "Which of the following calls to the 2D array will result in the output: 6?\n",
    "\n",
    "A = [[1, 2, 3],\n",
    " [4, 5, 6],\n",
    " [7, 8, 9]]\n"
   ]
  },
  {
   "cell_type": "code",
   "execution_count": 6,
   "metadata": {},
   "outputs": [
    {
     "data": {
      "text/plain": [
       "6"
      ]
     },
     "execution_count": 6,
     "metadata": {},
     "output_type": "execute_result"
    }
   ],
   "source": [
    "A = [[1, 2, 3],\n",
    " [4, 5, 6],\n",
    " [7, 8, 9]]\n",
    "\n",
    "A[1][2]"
   ]
  },
  {
   "cell_type": "markdown",
   "metadata": {},
   "source": [
    "# 7: Last and Second-Last \n",
    "Given a string, create a new string made up of its last two letters, reversed and separated by a space. \\\n",
    "Example:\n",
    "Given the word 'bat', return 't a'. \\\n",
    "Function Description:\n",
    "Complete the function lastLetters in the editor below.\n",
    "lastLetters has the following parameter(s):\n",
    "string word: a string to process \\\n",
    "Returns:\n",
    "string: a string of two space-separated characters \\\n",
    "Constraint:\n",
    "2 ≤ length of word ≤ 100\n"
   ]
  },
  {
   "cell_type": "code",
   "execution_count": null,
   "metadata": {},
   "outputs": [],
   "source": [
    "#\n",
    "# Complete the 'lastLetters' function below.\n",
    "#\n",
    "# The function is expected to return a STRING.\n",
    "# The function accepts STRING word as parameter.\n",
    "#\n",
    "def lastLetters(word):\n",
    "    sentence = (word[-1]+ \" \" +word[-2])\n",
    "    return(sentence)\n"
   ]
  },
  {
   "cell_type": "markdown",
   "metadata": {},
   "source": [
    "# 8: Balanced Array\n",
    "Given an array of numbers, find the index of the smallest array element (the pivot), for which the sums of\n",
    "all elements to the left and to the right are equal. The array may not be reordered. \\\n",
    "Example\n",
    "arr=[1,2,3,4,6]\n",
    "the sum of the first three elements, 1+2+3=6. The value of the last element is 6.\n",
    "Using zero based indexing, arr[3]=4 is the pivot between the two subarrays.\n",
    "The index of the pivot is 3. \\\n",
    "Function Description\n",
    "Complete the function balancedSum in the editor below.\n",
    "balancedSum has the following parameter(s):\n",
    "int arr[n]: an array of integers\n",
    "Returns:\n",
    "int: an integer representing the index of the pivot \\\n",
    "Constraints\n",
    "3 ≤ n ≤ 10\n",
    "1 ≤ arr[i] ≤ 2 × 10 , where 0 ≤ i < n\n",
    "It is guaranteed that a solution always exists"
   ]
  },
  {
   "cell_type": "code",
   "execution_count": null,
   "metadata": {},
   "outputs": [],
   "source": [
    "def balancedSum(arr):\n",
    "    # Write your code here\n",
    "    sum = 0\n",
    "    pf = [0] * len(arr)\n",
    "    # store the prefix sums for each index\n",
    "    # while calculating the overall array sum\n",
    "    for i in range(len(arr)):\n",
    "        sum += arr[i]\n",
    "        pf[i] = sum\n",
    "        # pf[i-1] is the prefix sum up to the current index\n",
    "        # sum - pf[i] is the sum of elements from the current index to the end\n",
    "    for i in range(1, len(arr)):\n",
    "        if(pf[i - 1] == sum - pf[i]):\n",
    "            return i\n"
   ]
  },
  {
   "cell_type": "code",
   "execution_count": null,
   "metadata": {},
   "outputs": [],
   "source": [
    "#\n",
    "# Complete the 'balancedSum' function below.\n",
    "#\n",
    "# The function is expected to return an INTEGER.\n",
    "# The function accepts INTEGER_ARRAY arr as parameter.\n",
    "#\n",
    "def balancedSum(arr):\n",
    "    # Write your code here\n",
    "    #Can we perhaps get the sum of the array up to index i, and the sum of the array after index i until [:]\n",
    "    #if the sum of the array before index i is equal to the sum after index i, then we have our pivot index\n",
    "    #print(len(arr))\n",
    "    sum_before = 0\n",
    "    sum_after = 0\n",
    "    for i in range(len(arr)):\n",
    "        # for j in arr:\n",
    "        sum_before += sum(arr[:i])\n",
    "        sum_after += sum(arr[i+1:])\n",
    "        # print(\"sum_before: \", sum_before)\n",
    "        # print(\"sum_after: \", sum_after)\n",
    "    if sum_before == sum_after:\n",
    "        return (i) #no way we just had to return i\n",
    "    sum_before = 0 #make sure to clear the variables for the next iteration\n",
    "    sum_after = 0\n"
   ]
  },
  {
   "cell_type": "markdown",
   "metadata": {},
   "source": [
    "# 9: Maximum Occurring Character\n",
    "Given a string, return the character that appears the maximum number of times in the string. The string will contain only ASCII characters, from the ranges ('a'-'z','A'-'Z','0'-'9'), and case matters. If there is a tie in the maximum number of times a character appears in the string, return the character that appears first in the string.\n",
    "\n",
    "Example\n",
    "text = abbbaacc\n",
    "Both 'a' and 'b' occur 3 times in text. Since 'a' occurs earlier, a is the answer. \\\n",
    "Function Description\n",
    "Complete the function maximumOccurringCharacter in the editor below.\n",
    "maximumOccurringCharacter has the following parameter:\n",
    "string text: the string to be operated upon\n",
    "Returns\n",
    "char : The most occurring character that appears first in the string. \\\n",
    "Constraints \n",
    "10 ≤ |text| ≤ 10\n",
    "All characters are alphanumeric, in the ranges ('a'-'z','A'-'Z','0'-'9')\n"
   ]
  },
  {
   "cell_type": "code",
   "execution_count": null,
   "metadata": {},
   "outputs": [],
   "source": [
    "#\n",
    "# Complete the 'maximumOccurringCharacter' function below.\n",
    "#\n",
    "# The function is expected to return a CHARACTER.\n",
    "# The function accepts STRING text as parameter.\n",
    "#\n",
    "def maximumOccurringCharacter(text):\n",
    "    # Write your code here\n",
    "    #perhaps a dictionary would help\n",
    "    #create an empty dictionary of distinct letters and digits and their counts\n",
    "    #get the the letter with the highest count\n",
    "    char_count = {}\n",
    "    char_list = list(text)\n",
    "    print(char_list)\n",
    "    for i in char_list:\n",
    "        if i in char_count:\n",
    "            char_count[i] += 1\n",
    "    print(char_count)"
   ]
  }
 ],
 "metadata": {
  "kernelspec": {
   "display_name": "Python 3.9.7 ('sfds')",
   "language": "python",
   "name": "python3"
  },
  "language_info": {
   "codemirror_mode": {
    "name": "ipython",
    "version": 3
   },
   "file_extension": ".py",
   "mimetype": "text/x-python",
   "name": "python",
   "nbconvert_exporter": "python",
   "pygments_lexer": "ipython3",
   "version": "3.9.7"
  },
  "orig_nbformat": 4,
  "vscode": {
   "interpreter": {
    "hash": "a8387c85817131f62b92073afbf9c4320cbcdb4fc33a940d74c72b0cf27cea34"
   }
  }
 },
 "nbformat": 4,
 "nbformat_minor": 2
}
