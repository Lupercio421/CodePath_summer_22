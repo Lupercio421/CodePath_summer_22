{
 "cells": [
  {
   "cell_type": "markdown",
   "metadata": {},
   "source": [
    "# Problem #1\n",
    "What is the return value of the function call mystery([10, 20, 35, 50, 70, 80], 90)?"
   ]
  },
  {
   "cell_type": "code",
   "execution_count": 1,
   "metadata": {},
   "outputs": [
    {
     "data": {
      "text/plain": [
       "[0, 0, 1, 1, 0, 0]"
      ]
     },
     "execution_count": 1,
     "metadata": {},
     "output_type": "execute_result"
    }
   ],
   "source": [
    "def mystery(lst, x):\n",
    " \n",
    "  l = 0\n",
    "  r = len(lst) - 1\n",
    "  \n",
    "  while (l < r):\n",
    "    if (lst[l] + lst[r] == x):\n",
    "      lst[l] = 0 #the value at this index is 0\n",
    "      lst[r] = 0\n",
    "    elif(lst[l] + lst[r] < x):\n",
    "      lst[l] = 1 #the value at this index is 1\n",
    "      lst[r] = 1\n",
    "    else:\n",
    "      lst[l] = 2\n",
    "      lst[r] = 2\n",
    "\n",
    "    l += 1\n",
    "    r -= 1\n",
    "  \n",
    "  return lst\n",
    "\n",
    "mystery([10, 20, 35, 50, 70, 80], 90)"
   ]
  },
  {
   "cell_type": "markdown",
   "metadata": {},
   "source": [
    "# Problem #2\n",
    "What is the return value of the function call mystery([9, 23, 99, 98, 86, 64])?"
   ]
  },
  {
   "cell_type": "code",
   "execution_count": 2,
   "metadata": {},
   "outputs": [
    {
     "data": {
      "text/plain": [
       "[64, 86, 99, 98, 86, 64]"
      ]
     },
     "execution_count": 2,
     "metadata": {},
     "output_type": "execute_result"
    }
   ],
   "source": [
    "def mystery(lst):\n",
    " \n",
    "  l = 0\n",
    "  r = len(lst) - 1\n",
    "  \n",
    "  while (l < r):\n",
    "    if (lst[l] < lst[r]):\n",
    "      lst[l] = lst[r] #replace the value at the lth index with the value at the rth index\n",
    "  \n",
    "    l += 1\n",
    "    r -= 1\n",
    "  \n",
    "  return lst\n",
    "\n",
    "mystery([9, 23, 99, 98, 86, 64])"
   ]
  },
  {
   "cell_type": "markdown",
   "metadata": {},
   "source": [
    "# Problem #3\n",
    "What is the return value for the function call mystery(\"abcdefghijklmnopqrstuvwxyz\", 7)?"
   ]
  },
  {
   "cell_type": "code",
   "execution_count": 3,
   "metadata": {},
   "outputs": [
    {
     "name": "stdout",
     "output_type": "stream",
     "text": [
      "abcdefg hijklmn opqrstu "
     ]
    }
   ],
   "source": [
    "def mystery(str, size):\n",
    " \n",
    "  l = 0\n",
    "  r = size\n",
    "\n",
    "  while r <= len(str):\n",
    "    print(str[l:r], end=\" \")\n",
    "    l += size\n",
    "    r += size\n",
    "\n",
    "mystery(\"abcdefghijklmnopqrstuvwxyz\", 7)"
   ]
  },
  {
   "cell_type": "markdown",
   "metadata": {},
   "source": [
    "# Problem #4\n",
    "What is the return value of the function call mystery(\"catcatdogdog\", 3)?"
   ]
  },
  {
   "cell_type": "code",
   "execution_count": 4,
   "metadata": {},
   "outputs": [
    {
     "name": "stdout",
     "output_type": "stream",
     "text": [
      "Match: catcat\n",
      "Match: dogdog\n"
     ]
    }
   ],
   "source": [
    "def mystery(str, size):\n",
    "  l = size\n",
    "  r = size*2\n",
    "\n",
    "  while r <= len(str):\n",
    "    if str[l:r] == str[l-size:r-size]:\n",
    "      print(\"Match:\", str[l-size:r])\n",
    "    l += size\n",
    "    r += size\n",
    "\n",
    "mystery(\"catcatdogdog\", 3)"
   ]
  },
  {
   "cell_type": "markdown",
   "metadata": {},
   "source": [
    "# Problem #5\n",
    "Write a function called distinct_substrings(), that takes one string argument s . The function returns the number of substrings of length three, where none of the characters in the substring are the same."
   ]
  },
  {
   "cell_type": "code",
   "execution_count": 5,
   "metadata": {},
   "outputs": [
    {
     "name": "stdout",
     "output_type": "stream",
     "text": [
      "Input:  aababcabc\n",
      "Output:  7\n",
      "\n",
      "Input:  xyzzaz\n",
      "Output:  4\n",
      "\n",
      "Input:  zbzueeinadgx\n",
      "Output:  10\n"
     ]
    }
   ],
   "source": [
    "def distinct_substrings(s):\n",
    "  count = 0\n",
    "  p1 = 0\n",
    "  p2 = 3\n",
    "\n",
    "  while p2 <= len(s):\n",
    "    # create an empty list\n",
    "    char_lst = []\n",
    "    #check a substring of the str\n",
    "    for char in s[p1:p2]:\n",
    "      char_lst.append(char)\n",
    "    if len(char_lst) == 3:\n",
    "      count += 1\n",
    "    p1 += 1\n",
    "    p2 += 1\n",
    "      \n",
    "      \n",
    "  #check to see if the letters are not repeated\n",
    "  return count\n",
    "\n",
    "# Test Cases\n",
    "s = \"aababcabc\"\n",
    "print(\"Input: \", s)\n",
    "print(\"Output: \", distinct_substrings(s))\n",
    "\n",
    "s = \"xyzzaz\"\n",
    "print(\"\\nInput: \", s)\n",
    "print(\"Output: \", distinct_substrings(s))\n",
    "\n",
    "s1 = \"zbzueeinadgx\"\n",
    "print(\"\\nInput: \", s1)\n",
    "print(\"Output: \", distinct_substrings(s1))"
   ]
  },
  {
   "cell_type": "markdown",
   "metadata": {},
   "source": [
    "# Problem #6\n",
    "Write a function called longest_substring() that takes in a single parameter, s. The function returns the first length of the longest substring without repeating characters."
   ]
  },
  {
   "cell_type": "code",
   "execution_count": 6,
   "metadata": {},
   "outputs": [
    {
     "name": "stdout",
     "output_type": "stream",
     "text": [
      "Input:  pppppp\n"
     ]
    },
    {
     "ename": "UnboundLocalError",
     "evalue": "local variable 'res' referenced before assignment",
     "output_type": "error",
     "traceback": [
      "\u001b[1;31m---------------------------------------------------------------------------\u001b[0m",
      "\u001b[1;31mUnboundLocalError\u001b[0m                         Traceback (most recent call last)",
      "\u001b[1;32m~\\AppData\\Local\\Temp/ipykernel_26664/106950589.py\u001b[0m in \u001b[0;36m<module>\u001b[1;34m\u001b[0m\n\u001b[0;32m     22\u001b[0m \u001b[0ms\u001b[0m \u001b[1;33m=\u001b[0m \u001b[1;34m\"pppppp\"\u001b[0m\u001b[1;33m\u001b[0m\u001b[1;33m\u001b[0m\u001b[0m\n\u001b[0;32m     23\u001b[0m \u001b[0mprint\u001b[0m\u001b[1;33m(\u001b[0m\u001b[1;34m\"Input: \"\u001b[0m\u001b[1;33m,\u001b[0m \u001b[0ms\u001b[0m\u001b[1;33m)\u001b[0m\u001b[1;33m\u001b[0m\u001b[1;33m\u001b[0m\u001b[0m\n\u001b[1;32m---> 24\u001b[1;33m \u001b[0mprint\u001b[0m\u001b[1;33m(\u001b[0m\u001b[1;34m\"Output: \"\u001b[0m\u001b[1;33m,\u001b[0m \u001b[0mlongest_substring\u001b[0m\u001b[1;33m(\u001b[0m\u001b[0ms\u001b[0m\u001b[1;33m)\u001b[0m\u001b[1;33m)\u001b[0m \u001b[1;31m# 1\u001b[0m\u001b[1;33m\u001b[0m\u001b[1;33m\u001b[0m\u001b[0m\n\u001b[0m\u001b[0;32m     25\u001b[0m \u001b[1;33m\u001b[0m\u001b[0m\n\u001b[0;32m     26\u001b[0m \u001b[0ms\u001b[0m \u001b[1;33m=\u001b[0m \u001b[1;34m\"aabdcefabcbb\"\u001b[0m\u001b[1;33m\u001b[0m\u001b[1;33m\u001b[0m\u001b[0m\n",
      "\u001b[1;32m~\\AppData\\Local\\Temp/ipykernel_26664/106950589.py\u001b[0m in \u001b[0;36mlongest_substring\u001b[1;34m(s)\u001b[0m\n\u001b[0;32m     13\u001b[0m          \u001b[0mchars\u001b[0m\u001b[1;33m[\u001b[0m\u001b[0mord\u001b[0m\u001b[1;33m(\u001b[0m\u001b[0ml\u001b[0m\u001b[1;33m)\u001b[0m\u001b[1;33m]\u001b[0m \u001b[1;33m-=\u001b[0m \u001b[1;36m1\u001b[0m\u001b[1;33m\u001b[0m\u001b[1;33m\u001b[0m\u001b[0m\n\u001b[0;32m     14\u001b[0m          \u001b[0mptr2\u001b[0m \u001b[1;33m+=\u001b[0m \u001b[1;36m1\u001b[0m\u001b[1;33m\u001b[0m\u001b[1;33m\u001b[0m\u001b[0m\n\u001b[1;32m---> 15\u001b[1;33m       \u001b[0mres\u001b[0m \u001b[1;33m=\u001b[0m \u001b[0mmax\u001b[0m\u001b[1;33m(\u001b[0m\u001b[0mres\u001b[0m\u001b[1;33m,\u001b[0m \u001b[0mptr2\u001b[0m \u001b[1;33m-\u001b[0m \u001b[0mptr1\u001b[0m \u001b[1;33m+\u001b[0m \u001b[1;36m1\u001b[0m\u001b[1;33m)\u001b[0m\u001b[1;33m\u001b[0m\u001b[1;33m\u001b[0m\u001b[0m\n\u001b[0m\u001b[0;32m     16\u001b[0m \u001b[1;33m\u001b[0m\u001b[0m\n\u001b[0;32m     17\u001b[0m       \u001b[0mptr2\u001b[0m \u001b[1;33m+=\u001b[0m \u001b[1;36m1\u001b[0m\u001b[1;33m\u001b[0m\u001b[1;33m\u001b[0m\u001b[0m\n",
      "\u001b[1;31mUnboundLocalError\u001b[0m: local variable 'res' referenced before assignment"
     ]
    }
   ],
   "source": [
    "def longest_substring(s):\n",
    "   s = s.lower()\n",
    "   # Create a character array to keep track of the occurrence of a unique character\n",
    "   chars = [0]*128\n",
    "   ptr1 = 0\n",
    "   ptr2 = 0\n",
    "   while ptr2 <= len(s):\n",
    "      r = s[ptr2]\n",
    "      chars[ord(r)] += 1\n",
    "\n",
    "      while chars[ord(r)] > 1:\n",
    "         l = s[ptr1]\n",
    "         chars[ord(l)] -= 1\n",
    "         ptr2 += 1\n",
    "      res = max(res, ptr2 - ptr1 + 1)\n",
    "      \n",
    "      ptr2 += 1\n",
    "   #we need to stop the count after a repeating character appears\n",
    "   return res \n",
    "\n",
    "# Test Cases\n",
    "s = \"pppppp\"\n",
    "print(\"Input: \", s)\n",
    "print(\"Output: \", longest_substring(s)) # 1\n",
    "\n",
    "s = \"aabdcefabcbb\"\n",
    "print(\"\\nInput: \", s)\n",
    "print(\"Output: \", longest_substring(s)) # 6"
   ]
  },
  {
   "cell_type": "code",
   "execution_count": 7,
   "metadata": {},
   "outputs": [
    {
     "name": "stdout",
     "output_type": "stream",
     "text": [
      "Input:  pppppp\n",
      "Output:  1\n",
      "\n",
      "Input:  aabdcefabcbb\n",
      "Output:  6\n"
     ]
    }
   ],
   "source": [
    "def longest_substring(s):\n",
    "  s = s.lower()\n",
    "\n",
    "  # Creating a character array to keep track of the occurrence of a unique character. \n",
    "  chars = [0] * 128\n",
    "\n",
    "  ptr1 = 0\n",
    "  ptr2 = 0\n",
    "  res = 0\n",
    "  while ptr2 < len(s):\n",
    "      r = s[ptr2]\n",
    "      chars[ord(r)] += 1\n",
    "\n",
    "      while chars[ord(r)] > 1:\n",
    "          l = s[ptr1]\n",
    "          chars[ord(l)] -= 1\n",
    "          ptr1 += 1\n",
    "\n",
    "      res = max(res, ptr2 - ptr1 + 1)\n",
    "\n",
    "      ptr2 += 1\n",
    "  return res\n",
    "\n",
    "\n",
    "# Test Cases\n",
    "s = \"pppppp\"\n",
    "print(\"Input: \", s)\n",
    "print(\"Output: \", longest_substring(s))\n",
    "\n",
    "s = \"aabdcefabcbb\"\n",
    "print(\"\\nInput: \", s)\n",
    "print(\"Output: \", longest_substring(s))"
   ]
  }
 ],
 "metadata": {
  "kernelspec": {
   "display_name": "Python 3.9.7 ('sfds')",
   "language": "python",
   "name": "python3"
  },
  "language_info": {
   "codemirror_mode": {
    "name": "ipython",
    "version": 3
   },
   "file_extension": ".py",
   "mimetype": "text/x-python",
   "name": "python",
   "nbconvert_exporter": "python",
   "pygments_lexer": "ipython3",
   "version": "3.9.7"
  },
  "orig_nbformat": 4,
  "vscode": {
   "interpreter": {
    "hash": "a8387c85817131f62b92073afbf9c4320cbcdb4fc33a940d74c72b0cf27cea34"
   }
  }
 },
 "nbformat": 4,
 "nbformat_minor": 2
}
