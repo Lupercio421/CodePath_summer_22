{
 "cells": [
  {
   "cell_type": "markdown",
   "metadata": {},
   "source": [
    "# 1. Python Basics: 2D Lists\n",
    "What is the value of `matrix[3,2]` if matrix is defined as follows:"
   ]
  },
  {
   "cell_type": "code",
   "execution_count": null,
   "metadata": {},
   "outputs": [],
   "source": []
  },
  {
   "cell_type": "markdown",
   "metadata": {},
   "source": []
  },
  {
   "cell_type": "code",
   "execution_count": null,
   "metadata": {},
   "outputs": [],
   "source": []
  },
  {
   "cell_type": "markdown",
   "metadata": {},
   "source": []
  },
  {
   "cell_type": "code",
   "execution_count": 1,
   "metadata": {},
   "outputs": [
    {
     "name": "stdout",
     "output_type": "stream",
     "text": [
      "34"
     ]
    }
   ],
   "source": [
    "x = 2\n",
    "for i in range(x):\n",
    "    x += 1\n",
    "    print(x, end = \"\")\n"
   ]
  },
  {
   "cell_type": "markdown",
   "metadata": {},
   "source": []
  },
  {
   "cell_type": "code",
   "execution_count": null,
   "metadata": {},
   "outputs": [],
   "source": [
    "#!/bin/python3\n",
    "\n",
    "import math\n",
    "import os\n",
    "import random\n",
    "import re\n",
    "import sys\n",
    "\n",
    "\n",
    "\n",
    "#\n",
    "# Complete the 'reverse_list' function below.\n",
    "#\n",
    "# The function is expected to return an INTEGER_ARRAY.\n",
    "# The function accepts following parameters:\n",
    "#  1. INTEGER_ARRAY num_list\n",
    "#  2. INTEGER start\n",
    "#  3. INTEGER end\n",
    "#\n",
    "\n",
    "def reverse_list(num_list, start, end):\n",
    "    # Write your code here\n",
    "    # print(num_list[start])\n",
    "    # print(num_list[end])\n",
    "    # print(num_list[start:end:-1])\n",
    "    print(num_list[::-1])\n",
    "    #add a an error message when list index is out of range, and return the array itself unchanged\n",
    "    if start not in range(len(num_list)) or end not in range(len(num_list)):\n",
    "        return num_list\n",
    "    if start in range(len(num_list)) or end in range(len(num_list)):\n",
    "        if start > end:\n",
    "            return num_list[end:start+1]\n",
    "        if end > start:\n",
    "            return num_list[start:end+1:-1]\n",
    "    # elif start in range(len(num_list)) or end in range(len(num_list)):\n",
    "    #     return num_list[end+1:start]\n",
    "    \n",
    "\n",
    "\n",
    "if __name__ == '__main__':\n",
    "    fptr = open(os.environ['OUTPUT_PATH'], 'w')\n",
    "\n",
    "    array_input = input().strip().replace(\" \", \"\")\n",
    "    array_input = array_input[1:-1].split(\",\")\n",
    "    num_list = []\n",
    "\n",
    "    for i in array_input:\n",
    "        if i == \"\":\n",
    "            break\n",
    "        num_list.append(int(i))\n",
    "    \n",
    "    start = int(input().strip())\n",
    "\n",
    "    end = int(input().strip())\n",
    "\n",
    "    result = reverse_list(num_list, start, end)\n",
    "\n",
    "    fptr.write('\\n'.join(map(str, result)))\n",
    "    fptr.write('\\n')\n",
    "\n",
    "    fptr.close()\n"
   ]
  },
  {
   "cell_type": "markdown",
   "metadata": {},
   "source": []
  },
  {
   "cell_type": "code",
   "execution_count": null,
   "metadata": {},
   "outputs": [],
   "source": [
    "#!/bin/python3\n",
    "\n",
    "import math\n",
    "import os\n",
    "import random\n",
    "import re\n",
    "import sys\n",
    "\n",
    "\n",
    "#\n",
    "# Complete the 'buy_sell_stocks' function below.\n",
    "#\n",
    "# The function is expected to return an INTEGER.\n",
    "# The function accepts INTEGER_ARRAY prices as parameter.\n",
    "#\n",
    "\n",
    "def buy_sell_stocks(prices):\n",
    "    # Write your code here\n",
    "    return(1)\n",
    "if __name__ == '__main__':\n",
    "    fptr = open(os.environ['OUTPUT_PATH'], 'w')\n",
    "\n",
    "    array_input = input().strip().replace(\" \", \"\")\n",
    "    array_input = array_input[1:-1].split(\",\")\n",
    "    prices = []\n",
    "\n",
    "    for i in array_input:\n",
    "        if i == \"\":\n",
    "            break\n",
    "        prices.append(int(i))\n",
    "\n",
    "    result = buy_sell_stocks(prices)\n",
    "\n",
    "    fptr.write(str(result) + '\\n')\n",
    "\n",
    "    fptr.close()\n"
   ]
  },
  {
   "cell_type": "markdown",
   "metadata": {},
   "source": [
    "Reverse Vowels"
   ]
  },
  {
   "cell_type": "code",
   "execution_count": null,
   "metadata": {},
   "outputs": [],
   "source": [
    "#!/bin/python3\n",
    "\n",
    "import math\n",
    "import os\n",
    "import random\n",
    "import re\n",
    "import sys\n",
    "\n",
    "\n",
    "#\n",
    "# Complete the 'reverse_vowels' function below.\n",
    "#\n",
    "# The function is expected to return a StrING.\n",
    "# The function accepts StrING s as parameter.\n",
    "#\n",
    "\n",
    "def reverse_vowels(s):\n",
    "    # Write your code here\n",
    "    vowels = ['a','e','i','o','u', 'y']\n",
    "    #make the string lowercase for simplicity\n",
    "    #s = s.lower()\n",
    "    #make the string into a list\n",
    "    s = list(s)\n",
    "    #begin a two pointer technique\n",
    "    ptr1 = 0\n",
    "    ptr2 = len(s)-1 #to avoid index errors, we subtract 1\n",
    "    \n",
    "    while ptr1 < ptr2:\n",
    "        print(ptr1, ptr2)\n",
    "        if s[ptr1] not in vowels:\n",
    "            ptr1 += 1\n",
    "        print(ptr1,ptr2)\n",
    "        \n",
    "        if s[ptr2] not in vowels:\n",
    "            ptr2 -= 1\n",
    "        print(ptr1,ptr2)\n",
    "        \n",
    "        s[ptr1],s[ptr2] = s[ptr2],s[ptr1]\n",
    "        \n",
    "        print(s)\n",
    "        \n",
    "        ptr1 +=1 \n",
    "        ptr2 -= 1\n",
    "    return \"\".join(s)\n",
    "      \n",
    "if __name__ == '__main__':\n",
    "    fptr = open(os.environ['OUTPUT_PATH'], 'w')\n",
    "\n",
    "    s = input()\n",
    "\n",
    "    result = reverse_vowels(s)\n",
    "\n",
    "    fptr.write(result + '\\n')\n",
    "\n",
    "    fptr.close()\n"
   ]
  },
  {
   "cell_type": "markdown",
   "metadata": {},
   "source": [
    "# 10. Challenge: Flipping an Image\n",
    "\n",
    "Given an n x n binary matrix image, flip the image horizontally, then invert it, and return the resulting image\n",
    "\\\n",
    "To flip an image horizontally means that each row of the image is reversed.\n",
    "\\\n",
    "- For example, flipping [1,1,0] horizontally results in [0,1,1]\n",
    "\\\n",
    "To invert an image means that each 0 is replaced by 1 and each 1 is replaced by 0\n",
    "\\\n",
    "- For example, inverting [0,1,1] results in [1,0,0]"
   ]
  },
  {
   "cell_type": "code",
   "execution_count": null,
   "metadata": {},
   "outputs": [],
   "source": [
    "#!/bin/python3\n",
    "\n",
    "import math\n",
    "import os\n",
    "import random\n",
    "import re\n",
    "import sys\n",
    "\n",
    "\n",
    "\n",
    "#\n",
    "# Complete the 'flip_image' function below.\n",
    "#\n",
    "# The function is expected to return a 2D_INTEGER_ARRAY.\n",
    "# The function accepts 2D_INTEGER_ARRAY image as parameter.\n",
    "#\n",
    "\n",
    "def flip_image(image):\n",
    "    # Write your code here\\\n",
    "    return (1)\n",
    "\n",
    "if __name__ == '__main__':\n",
    "    fptr = open(os.environ['OUTPUT_PATH'], 'w')\n",
    "\n",
    "    image_rows = int(input().strip())\n",
    "    image_columns = int(input().strip())\n",
    "\n",
    "    image = []\n",
    "\n",
    "    for _ in range(image_rows):\n",
    "        image.append(list(map(int, input().rstrip().split())))\n",
    "\n",
    "    result = flip_image(image)\n",
    "\n",
    "    fptr.write('\\n'.join([' '.join(map(str, x)) for x in result]))\n",
    "    fptr.write('\\n')\n",
    "\n",
    "    fptr.close()\n"
   ]
  },
  {
   "cell_type": "markdown",
   "metadata": {},
   "source": []
  },
  {
   "cell_type": "markdown",
   "metadata": {},
   "source": [
    "# Extra Two Pointer Technique Practice"
   ]
  },
  {
   "cell_type": "markdown",
   "metadata": {},
   "source": []
  },
  {
   "cell_type": "code",
   "execution_count": null,
   "metadata": {},
   "outputs": [],
   "source": [
    "# arr = [1,2,3,4,5]\n",
    "# #they add up to 6\n",
    "\n",
    "# def two_sum(arr, target):\n",
    "#     ptr_one = 0\n",
    "#     ptr_two = len(arr)-1\n",
    "\n",
    "#     while ptr_one < ptr_two:\n"
   ]
  },
  {
   "cell_type": "markdown",
   "metadata": {},
   "source": [
    "## Converting b/w Strings and Lists in Python\n",
    "\n",
    "- iterables is a general term for a sequential collection of objects\n",
    "\n",
    "- List\n",
    "    + enclosed in square brackets []\n",
    "    + mutable\n",
    "\n",
    "- Tuple\n",
    "    + enclosed in parentheses ()\n",
    "    + immutable\n"
   ]
  },
  {
   "cell_type": "code",
   "execution_count": null,
   "metadata": {},
   "outputs": [],
   "source": []
  }
 ],
 "metadata": {
  "kernelspec": {
   "display_name": "Python 3.9.7 ('sfds')",
   "language": "python",
   "name": "python3"
  },
  "language_info": {
   "codemirror_mode": {
    "name": "ipython",
    "version": 3
   },
   "file_extension": ".py",
   "mimetype": "text/x-python",
   "name": "python",
   "nbconvert_exporter": "python",
   "pygments_lexer": "ipython3",
   "version": "3.9.7"
  },
  "orig_nbformat": 4,
  "vscode": {
   "interpreter": {
    "hash": "a8387c85817131f62b92073afbf9c4320cbcdb4fc33a940d74c72b0cf27cea34"
   }
  }
 },
 "nbformat": 4,
 "nbformat_minor": 2
}
